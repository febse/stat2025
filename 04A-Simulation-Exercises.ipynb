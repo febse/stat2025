{
 "cells": [
  {
   "cell_type": "markdown",
   "metadata": {},
   "source": [
    "# Simulations Exercise\n",
    "\n",
    "Open in Google Colab: [![Open in Colab](https://colab.research.google.com/assets/colab-badge.svg)](https://colab.research.google.com/github/febse/stat2024/blob/main/05A-Simulation-Exercises.ipynb)\n",
    "\n",
    "\n",
    ":::{#exr-simulation-dice-rolls}\n",
    "## Dice Rolls Simulation\n",
    "\n",
    "You roll two six-sided dice 1000 times. Assume that the dice are fair and that the trials are independent. For the following events first compute \n",
    "their probability by counting the number of outcomes in the sample space that satisfy the event and dividing by the total number of outcomes. After that, simulate the experiment and compare the theoretical probability with the empirical probability for each event using 10 and 10,000 simulations.\n",
    "\n",
    "- Event $A$: The sum of the dice is greater than 10.\n",
    "- Event $B$: The sum of the deice is 7 and the first die is 3.\n",
    "- Event $C$: The sum of the dice  is greater than 7 and the first die is 5.\n",
    "- Event $D$: The sum of the dice is greater than 8 and the first roll is smaller or equal to the second roll.\n",
    "\n",
    "Use [Exercise 3.3](https://febse.github.io/stat2024/03-Probability.html#discrete-sample-spaces) as a starting point.\n",
    "\n",
    ":::\n",
    "\n",
    ":::{.callout-note collapse=\"true\"}\n",
    "\n",
    "## Probabilities (click to expand)\n",
    "\n",
    "We can consider a sample space of ordered pairs (first die, second die) with 36 equally likely outcomes. The probability of each outcome is $1/36$.\n",
    "\n",
    "The sample space is:\n",
    "\n",
    "$$\n",
    "\\Omega = \\left\\{\n",
    "    \\begin{array}{cccccc}\n",
    "        (1,1) & (1, 2) & (1, 3) & (1, 4) & (1, 5) & (1, 6) \\\\\n",
    "        (2,1) & (2, 2) & (2, 3) & (2, 4) & (2, 5) & (2, 6) \\\\\n",
    "        (3,1) & (3, 2) & (3, 3) & (3, 4) & (3, 5) & (3, 6) \\\\\n",
    "        (4,1) & (4, 2) & (4, 3) & (4, 4) & (4, 5) & (4, 6) \\\\\n",
    "        (5,1) & (5, 2) & (5, 3) & (5, 4) & (5, 5) & (5, 6) \\\\\n",
    "        (6,1) & (6, 2) & (6, 3) & (6, 4) & (6, 5) & (6, 6) \\\\\n",
    "    \\end{array}\n",
    "\\right\\}\n",
    "$$\n",
    "\n",
    "\n",
    "Let $A$ be the event that the sum of the dice is greater than 10. The event $A$ is:\n",
    "\n",
    "$$\n",
    "A = \\left\\{\n",
    "    \\begin{array}{cccccc}\n",
    "        (5,6) & (6,5) & (6,6) \\\\\n",
    "    \\end{array}\n",
    "\\right\\}\n",
    "$$\n",
    "\n",
    "It has 3 outcomes, so the probability of $A$ is $3/36 = 1/12$.\n",
    "\n",
    "Let $B$ be the event that the sum of the dice is 7 and the first die is 3. The event $B$ is:\n",
    "\n",
    "$$\n",
    "B = \\left\\{\n",
    "    \\begin{array}{c}\n",
    "        (3,4) \\\\\n",
    "    \\end{array}\n",
    "\\right\\}\n",
    "$$\n",
    "\n",
    "It has 1 outcome, so the probability of $B$ is $1/36$.\n",
    "\n",
    "Let $C$ be the event that the sum of the dice is greater than 7 and the first die is 5. The event $C$ is:\n",
    "\n",
    "$$\n",
    "C = \\left\\{\n",
    "    \\begin{array}{cccc}\n",
    "        (5,3) & (5,4) & (5,5) & (5,6) \\\\\n",
    "    \\end{array}\n",
    "\\right\\}\n",
    "$$\n",
    "\n",
    "It has 4 outcomes, so the probability of $C$ is $4/36 = 1/9$.\n",
    "\n",
    "Let $D$ be the event that the sum of the dice is greater than 8 and the first die is smaller or equal to the second die. The event $D$ is:\n",
    "\n",
    "$$\n",
    "D = \\left\\{\n",
    "    \\begin{array}{cccc}\n",
    "        (6, 6) & (5, 6) & (4, 6) & (3, 6) \\\\\n",
    "        (5, 5) & (4, 5) \\\\\n",
    "    \\end{array}\n",
    "\\right\\}\n",
    "$$\n",
    "\n",
    "It has 6 outcomes, so the probability of $D$ is $6/36 = 1/6$.\n",
    "\n",
    ":::\n"
   ]
  },
  {
   "cell_type": "code",
   "execution_count": 1,
   "metadata": {},
   "outputs": [
    {
     "data": {
      "text/plain": [
       "array([[1, 2],\n",
       "       [6, 2],\n",
       "       [1, 4],\n",
       "       [3, 3],\n",
       "       [2, 4],\n",
       "       [2, 5],\n",
       "       [3, 6],\n",
       "       [2, 6],\n",
       "       [1, 2],\n",
       "       [3, 5]])"
      ]
     },
     "execution_count": 1,
     "metadata": {},
     "output_type": "execute_result"
    }
   ],
   "source": [
    "import numpy as np\n",
    "\n",
    "# First, throw a pair of dice 10 times.\n",
    "# The result is a 10x2 matrix where each row is one throw.\n",
    "# The first column is the result of the first die, the second column is the result of the second die.\n",
    "# Each row corresponds to one repetition of the game\n",
    "\n",
    "rolls = np.random.choice([1, 2, 3, 4, 5, 6], size=[10, 2])\n",
    "rolls\n"
   ]
  },
  {
   "cell_type": "markdown",
   "metadata": {},
   "source": [
    "As the events in the exercise involve the sum of both dice, it will be convenient to be able to calculate the sum for each game (row in the `rolls` matrix). The `np.sum()` function will help us here. To understand how it works, consider the following picture of a matrix:\n",
    "\n",
    "![Matrix](https://www.sharpsightlabs.com/wp-content/uploads/2018/12/numpy-arrays-have-axes_updated_v2.png)\n",
    "\n",
    "Think of a matrix as having two dimensions (axes): the rows and the columns. Because in Python we start counting from 0, the first axis (dimension) has index 0 and the second axis has index 1. The `np.sum()` function accepts an argument `axis` that specifies the axis along which the sum is calculated. If `axis=0`, the sum is calculated along the rows (downwards), and if `axis=1`, the sum is calculated along the columns (horizontally).\n"
   ]
  },
  {
   "cell_type": "code",
   "execution_count": 2,
   "metadata": {},
   "outputs": [
    {
     "data": {
      "text/plain": [
       "63"
      ]
     },
     "execution_count": 2,
     "metadata": {},
     "output_type": "execute_result"
    }
   ],
   "source": [
    "# The following uses the function np.sum()\n",
    "# Run the cell to see what it does (it sums all the elements of the matrix rolls)\n",
    "\n",
    "np.sum(rolls)"
   ]
  },
  {
   "cell_type": "code",
   "execution_count": 3,
   "metadata": {},
   "outputs": [
    {
     "data": {
      "text/plain": [
       "array([24, 39])"
      ]
     },
     "execution_count": 3,
     "metadata": {},
     "output_type": "execute_result"
    }
   ],
   "source": [
    "# The np.sum function can also be applied column-wise (i.e. it sums all the elements of each column)\n",
    "# This is done by setting the axis parameter to 0\n",
    "\n",
    "np.sum(rolls, axis=0)"
   ]
  },
  {
   "cell_type": "code",
   "execution_count": 4,
   "metadata": {},
   "outputs": [
    {
     "data": {
      "text/plain": [
       "array([3, 8, 5, 6, 6, 7, 9, 8, 3, 8])"
      ]
     },
     "execution_count": 4,
     "metadata": {},
     "output_type": "execute_result"
    }
   ],
   "source": [
    "# The np.sum function can also be applied row-wise (i.e. it sums all the elements of each row)\n",
    "# This is done by setting the axis parameter to 1\n",
    "\n",
    "np.sum(rolls, axis=1)"
   ]
  },
  {
   "cell_type": "code",
   "execution_count": 5,
   "metadata": {},
   "outputs": [
    {
     "data": {
      "text/plain": [
       "array([False, False, False, False, False, False, False, False, False,\n",
       "       False])"
      ]
     },
     "execution_count": 5,
     "metadata": {},
     "output_type": "execute_result"
    }
   ],
   "source": [
    "# The event A is defined as the sum of the two dice being greater than 10.\n",
    "# To check if the event A occurred in each repetition, we can use the comparison operator >.\n",
    "# It compares the sum of the two dice to 10 and returns a boolean array with True if the sum is greater than 10 and False otherwise.\n",
    "\n",
    "np.sum(rolls, axis=1) > 10"
   ]
  },
  {
   "cell_type": "code",
   "execution_count": 6,
   "metadata": {},
   "outputs": [
    {
     "data": {
      "text/plain": [
       "array([False, False, False, False, False, False, False, False, False,\n",
       "       False])"
      ]
     },
     "execution_count": 6,
     "metadata": {},
     "output_type": "execute_result"
    }
   ],
   "source": [
    "# For convenience, we can store the result in a variable called eventA.\n",
    "\n",
    "eventA = (np.sum(rolls, axis=1) > 10)\n",
    "eventA"
   ]
  },
  {
   "cell_type": "code",
   "execution_count": 7,
   "metadata": {},
   "outputs": [
    {
     "data": {
      "text/plain": [
       "0"
      ]
     },
     "execution_count": 7,
     "metadata": {},
     "output_type": "execute_result"
    }
   ],
   "source": [
    "# Count the number of games in which event A occurred by summing the elements of the eventA array.\n",
    "\n",
    "np.sum(eventA)"
   ]
  },
  {
   "cell_type": "code",
   "execution_count": 8,
   "metadata": {},
   "outputs": [
    {
     "data": {
      "text/plain": [
       "0.0"
      ]
     },
     "execution_count": 8,
     "metadata": {},
     "output_type": "execute_result"
    }
   ],
   "source": [
    "# Calculate the proportion of games in which that event A occurred. Because the average (mean) is simply the sum of the elements divided by the number of elements, \n",
    "# it gives the proportion of games in which event A occurred. Multiply by 100 to get the percentage.\n",
    "\n",
    "100 * np.mean(eventA)"
   ]
  },
  {
   "cell_type": "code",
   "execution_count": 9,
   "metadata": {},
   "outputs": [
    {
     "data": {
      "text/plain": [
       "8.333333333333334"
      ]
     },
     "execution_count": 9,
     "metadata": {},
     "output_type": "execute_result"
    }
   ],
   "source": [
    "# Compare the result to the theoretical probability of the event A (here multiplied by 100 to get the percentage).\n",
    "\n",
    "100 * 3 / 36"
   ]
  },
  {
   "cell_type": "code",
   "execution_count": 10,
   "metadata": {},
   "outputs": [
    {
     "name": "stdout",
     "output_type": "stream",
     "text": [
      "Event A occurred in 0 games.\n",
      "Event A occurred in 0.0 percent of the games.\n"
     ]
    }
   ],
   "source": [
    "# You can also print the results with an explanatory text.\n",
    "\n",
    "print(\"Event A occurred in\", np.sum(eventA), \"games.\")\n",
    "print(\"Event A occurred in\", 100 * np.mean(eventA), \"percent of the games.\")"
   ]
  },
  {
   "cell_type": "markdown",
   "metadata": {},
   "source": [
    "For the next events we need to access the first and the second of `rolls`. In `numpy` we can access the first column with `rolls[:, 0]` and the second column with `rolls[:, 1]`.\n",
    "The syntax works in the following way: a matrix with two dimensions is accessed with `matrix[row, column]`. If we want to access all the rows of a column, we use `:`. So, `rolls[:, 0]` means \"all the rows of the first column of the matrix `rolls`\". Remember that we are counting from zero in Python, so the first column is the column with index 0.\n"
   ]
  },
  {
   "cell_type": "code",
   "execution_count": 11,
   "metadata": {},
   "outputs": [
    {
     "data": {
      "text/plain": [
       "array([1, 6, 1, 3, 2, 2, 3, 2, 1, 3])"
      ]
     },
     "execution_count": 11,
     "metadata": {},
     "output_type": "execute_result"
    }
   ],
   "source": [
    "# Selects the first column of the array (same as above)\n",
    "\n",
    "rolls[:, 0]"
   ]
  },
  {
   "cell_type": "code",
   "execution_count": 12,
   "metadata": {},
   "outputs": [
    {
     "data": {
      "text/plain": [
       "array([False, False, False,  True, False, False,  True, False, False,\n",
       "        True])"
      ]
     },
     "execution_count": 12,
     "metadata": {},
     "output_type": "execute_result"
    }
   ],
   "source": [
    "rolls[:, 0] == 3"
   ]
  },
  {
   "cell_type": "code",
   "execution_count": 13,
   "metadata": {},
   "outputs": [
    {
     "data": {
      "text/plain": [
       "array([False, False, False, False, False, False, False, False, False,\n",
       "       False])"
      ]
     },
     "execution_count": 13,
     "metadata": {},
     "output_type": "execute_result"
    }
   ],
   "source": [
    "# Create a new array called eventB that is True if:\n",
    "# - the first die equals 3\n",
    "# AND\n",
    "# - the roll sum is equal to 7\n",
    "# Hint: Use the & operator (logical AND)\n",
    " \n",
    "eventB = (rolls[:, 0] == 3) & (np.sum(rolls, axis=1) == 7)\n",
    "eventB\n"
   ]
  },
  {
   "cell_type": "code",
   "execution_count": 14,
   "metadata": {},
   "outputs": [
    {
     "data": {
      "text/plain": [
       "array([False, False, False, False, False, False, False, False, False,\n",
       "       False])"
      ]
     },
     "execution_count": 14,
     "metadata": {},
     "output_type": "execute_result"
    }
   ],
   "source": [
    "# Create a new array called eventC that is True if:\n",
    "# - the roll sum is greater than 7\n",
    "# AND\n",
    "# - the second die is equal to 5\n",
    "\n",
    "eventC = (np.sum(rolls, axis=1) == 7) & (rolls[:, 0] == 3)\n",
    "eventC\n"
   ]
  },
  {
   "cell_type": "code",
   "execution_count": 15,
   "metadata": {},
   "outputs": [],
   "source": [
    "# Create a new array called eventD that is True if:\n",
    "# - the roll sum is greater than 8\n",
    "# AND\n",
    "# - the first die is smaller or equal to the second die\n",
    "\n",
    "eventD = (np.sum(rolls, axis=1) > 8) & (rolls[:, 0] <= rolls[:, 1])"
   ]
  },
  {
   "cell_type": "markdown",
   "metadata": {},
   "source": [
    "## The Matching Problem\n",
    "\n",
    "Some results in probability theory can be confusing and counter-intuitive. A classic example is the matching problem. Consider a room with $n$ dancing couples. If the couples are randomly paired, what is the probability that after the pairing, no one is matched with their original partner?\n",
    "\n",
    "Imagine that the leads are numbered from 1 to $n$ and the follows are also numbered from 1 to $n$.\n",
    "\n",
    "The original arrangement of the couples and two possible rearrangements are shown in the table below (for five couples numbered from 0 to 4).\n",
    "\n",
    "| Leads                  | 0   | 1   | 2   | 3   | 4   | Number of matches          |\n",
    "| ---------------------- | --- | --- | --- | --- | --- | -------------------------- |\n",
    "| Follows (original)     | 0   | 1   | 2   | 3   | 4   | 5                          |\n",
    "| Follows (rearranged 1) | 2   | 4   | 1   | 3   | 0   | 1 (the fourth pair)        |\n",
    "| Follows (rearranged 2) | 0   | 1   | 3   | 4   | 2   | 2 (first and second pairs) |\n",
    "| Follows (rearranged 2) | 1   | 0   | 4   | 3   | 2   | 0 (no matches)             |\n",
    "\n",
    "\n",
    "We will approach the problem with a simulation. We will randomly pair the couples and count the number of times no one is matched with their original partner.\n",
    "\n",
    ":::{.callout-warning}\n",
    "## How to Read the Simulation Code\n",
    "\n",
    "The code below is a simulation of the matching problem. It has two parameters\n",
    "\n",
    "- `n`: the number of couples\n",
    "- `repetitions`: the number of repetitions (how many time we will randomly pair the couples)\n",
    "\n",
    "The code right now sets `n = 5` and `repetitions = 3` so that you can inspect the data and understand the data flow (how the simulation actually works).\n",
    "\n",
    "After you understand the code, you can change the parameters to for example `n = 10000` and `repetitions = 10000`. You should play around with the parameters and look at what happens to the proportion of repetitions where no one is matched with their original partner when you vary `n` and `repetitions`.\n",
    "\n",
    ":::"
   ]
  },
  {
   "cell_type": "code",
   "execution_count": 16,
   "metadata": {},
   "outputs": [
    {
     "data": {
      "text/plain": [
       "array([0, 1, 2, 3, 4])"
      ]
     },
     "execution_count": 16,
     "metadata": {},
     "output_type": "execute_result"
    }
   ],
   "source": [
    "n = 5 # Number of pairs\n",
    "repetitions = 3 # Number of simulations\n",
    "\n",
    "# Create a list (an array) of integers from 0 to n-1 (corresponding to the partners)\n",
    "\n",
    "partners = np.arange(n)\n",
    "partners"
   ]
  },
  {
   "cell_type": "code",
   "execution_count": 17,
   "metadata": {},
   "outputs": [
    {
     "name": "stdout",
     "output_type": "stream",
     "text": [
      "Partners after shuffling:\n"
     ]
    },
    {
     "data": {
      "text/plain": [
       "array([2, 1, 3, 4, 0])"
      ]
     },
     "execution_count": 17,
     "metadata": {},
     "output_type": "execute_result"
    }
   ],
   "source": [
    "# NOTE: code for illustration purposes only\n",
    "\n",
    "# A single experiment: shuffle the partners and check if there are any matches\n",
    "\n",
    "partners_shuffled = np.random.permutation(partners)\n",
    "print(\"Partners after shuffling:\")\n",
    "partners_shuffled"
   ]
  },
  {
   "cell_type": "code",
   "execution_count": 18,
   "metadata": {},
   "outputs": [
    {
     "name": "stdout",
     "output_type": "stream",
     "text": [
      "Matches:\n"
     ]
    },
    {
     "data": {
      "text/plain": [
       "array([False,  True, False, False, False])"
      ]
     },
     "execution_count": 18,
     "metadata": {},
     "output_type": "execute_result"
    }
   ],
   "source": [
    "# If the value in the shuffled array is the same as in the original array, it means that the partners are the same\n",
    "# as in the original couple\n",
    "\n",
    "# We can check if there are any matches by comparing the two arrays element-wise\n",
    "\n",
    "matches = (partners == partners_shuffled)\n",
    "\n",
    "print(\"Matches:\")\n",
    "matches"
   ]
  },
  {
   "cell_type": "code",
   "execution_count": 19,
   "metadata": {},
   "outputs": [
    {
     "name": "stdout",
     "output_type": "stream",
     "text": [
      "Number of matches: 1\n"
     ]
    }
   ],
   "source": [
    "# We are interested in the event \"No partner gets their original partner\".\n",
    "# \n",
    "\n",
    "n_matches = np.sum(matches)\n",
    "\n",
    "print(\"Number of matches:\", n_matches)"
   ]
  },
  {
   "cell_type": "code",
   "execution_count": 20,
   "metadata": {},
   "outputs": [
    {
     "name": "stdout",
     "output_type": "stream",
     "text": [
      "Number of times (simulations) where no partner got their original partner: 1\n",
      "Proportion of no partner getting their original partner: 0.3333333333333333\n"
     ]
    }
   ],
   "source": [
    "# Now we can repeat the experiment a large number of times (repetitions) \n",
    "# and count how many times there were no matches\n",
    "\n",
    "# Set the number of matches to zero\n",
    "no_matches_counter = 0\n",
    "\n",
    "for i in range(repetitions):\n",
    "    # Shuffle the partners\n",
    "    partners_shuffled = np.random.permutation(partners)\n",
    "    \n",
    "    # Check if no one got their original partner.\n",
    "    no_match_in_permutation = np.sum(partners == partners_shuffled) == 0\n",
    "    \n",
    "    # If yes, increment the no_matches counter\n",
    "    if no_match_in_permutation:\n",
    "        no_matches_counter += 1\n",
    "\n",
    "print(\"Number of times (simulations) where no partner got their original partner:\", no_matches_counter)\n",
    "print(\"Proportion of no partner getting their original partner:\", no_matches_counter / repetitions)"
   ]
  },
  {
   "cell_type": "markdown",
   "metadata": {},
   "source": [
    ":::{.callout-info}\n",
    "## The for Loop in Python\n",
    "\n",
    "The following pieces of code are not part of the simulation. They are just to show you how to use a `for` loop in Python and how to use the `range` function.\n",
    "\n",
    ":::"
   ]
  },
  {
   "cell_type": "code",
   "execution_count": 21,
   "metadata": {},
   "outputs": [
    {
     "data": {
      "text/plain": [
       "[0, 1, 2, 3, 4]"
      ]
     },
     "execution_count": 21,
     "metadata": {},
     "output_type": "execute_result"
    }
   ],
   "source": [
    "# The range starting from 0 to n-1\n",
    "# Try it out\n",
    "\n",
    "list(range(5))"
   ]
  },
  {
   "cell_type": "code",
   "execution_count": 22,
   "metadata": {},
   "outputs": [
    {
     "name": "stdout",
     "output_type": "stream",
     "text": [
      "Simulation 0\n",
      "Simulation 1\n",
      "Simulation 2\n"
     ]
    }
   ],
   "source": [
    "# The previous code loops over the number of simulations and counts the number of matches in each simulation\n",
    "# It uses a for loop and the np.random.permutation() function\n",
    "\n",
    "# To see what a loop does you can use the print() function to print the value of a variable inside the loop\n",
    "\n",
    "# range(3) will create a list of integers from 0 to 2\n",
    "for i in range(3):\n",
    "    print(\"Simulation\", i)\n"
   ]
  },
  {
   "cell_type": "code",
   "execution_count": 23,
   "metadata": {},
   "outputs": [
    {
     "name": "stdout",
     "output_type": "stream",
     "text": [
      "Counter before incrementing = 0\n",
      "Counter after incrementing = 1\n",
      "Counter before incrementing = 1\n",
      "Counter after incrementing = 2\n",
      "Counter before incrementing = 2\n",
      "Counter after incrementing = 3\n",
      "Counter before incrementing = 3\n",
      "Counter after incrementing = 4\n",
      "Counter before incrementing = 4\n",
      "Counter after incrementing = 5\n",
      "Counter before incrementing = 5\n",
      "Counter after incrementing = 6\n",
      "Counter before incrementing = 6\n",
      "Counter after incrementing = 7\n",
      "Counter before incrementing = 7\n",
      "Counter after incrementing = 8\n",
      "Counter before incrementing = 8\n",
      "Counter after incrementing = 9\n",
      "Counter before incrementing = 9\n",
      "Counter after incrementing = 10\n",
      "Final counter value = 10\n"
     ]
    }
   ],
   "source": [
    "# We will use a variable to count the number of matches in each simulation\n",
    "\n",
    "# See how this works in a simple example\n",
    "\n",
    "counter = 0\n",
    "\n",
    "for i in range(10):\n",
    "    print(\"Counter before incrementing =\", counter)\n",
    "    counter = counter + 1\n",
    "    print(\"Counter after incrementing =\", counter)\n",
    "    \n",
    "print(\"Final counter value =\", counter)"
   ]
  },
  {
   "cell_type": "code",
   "execution_count": 24,
   "metadata": {},
   "outputs": [
    {
     "name": "stdout",
     "output_type": "stream",
     "text": [
      "0 is even, incrementing counter\n",
      "Counter: 1\n",
      "1 is odd, not incrementing counter\n",
      "Counter: 1\n",
      "2 is even, incrementing counter\n",
      "Counter: 2\n",
      "3 is odd, not incrementing counter\n",
      "Counter: 2\n",
      "4 is even, incrementing counter\n",
      "Counter: 3\n",
      "5 is odd, not incrementing counter\n",
      "Counter: 3\n",
      "6 is even, incrementing counter\n",
      "Counter: 4\n",
      "7 is odd, not incrementing counter\n",
      "Counter: 4\n",
      "8 is even, incrementing counter\n",
      "Counter: 5\n",
      "9 is odd, not incrementing counter\n",
      "Counter: 5\n",
      "Final counter: 5\n"
     ]
    }
   ],
   "source": [
    "# We can choose when to increment the counter by using an if statement\n",
    "\n",
    "counter = 0\n",
    "\n",
    "for i in range(10):\n",
    "    if i % 2 == 0:\n",
    "        print(i, \"is even, incrementing counter\")\n",
    "        counter = counter + 1\n",
    "    else:\n",
    "        print(i, \"is odd, not incrementing counter\")\n",
    "\n",
    "    print(\"Counter:\", counter)\n",
    "\n",
    "print(\"Final counter:\", counter)"
   ]
  }
 ],
 "metadata": {
  "kernelspec": {
   "display_name": "stat2024",
   "language": "python",
   "name": "python3"
  },
  "language_info": {
   "codemirror_mode": {
    "name": "ipython",
    "version": 3
   },
   "file_extension": ".py",
   "mimetype": "text/x-python",
   "name": "python",
   "nbconvert_exporter": "python",
   "pygments_lexer": "ipython3",
   "version": "3.12.4"
  }
 },
 "nbformat": 4,
 "nbformat_minor": 2
}
