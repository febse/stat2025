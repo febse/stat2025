{
 "cells": [
  {
   "cell_type": "code",
   "execution_count": null,
   "metadata": {},
   "outputs": [
    {
     "name": "stdout",
     "output_type": "stream",
     "text": [
      "Probability of seeing less or equal to 10 successes out of 100 trials: 0.454218291280923\n"
     ]
    }
   ],
   "source": [
    "# Binomial CDF for the number of successes\n",
    "\n",
    "n = 100\n",
    "p1 = 0.12\n",
    "\n",
    "print(\"Probability of seeing less or equal to 10 successes out of 100 trials:\", stats.binom.cdf(11, n, p1))"
   ]
  },
  {
   "cell_type": "code",
   "execution_count": null,
   "metadata": {},
   "outputs": [
    {
     "name": "stdout",
     "output_type": "stream",
     "text": [
      "Probability of seeing less or equal to 10 successes out of 100 trials: 0.12190275435901245\n"
     ]
    }
   ],
   "source": [
    "# Binomial CDF for the number of successes\n",
    "\n",
    "n = 100\n",
    "p1 = 0.12\n",
    "\n",
    "print(\"Probability of seeing less or equal to 10 successes out of 100 trials:\", stats.binom.pmf(12, n, p1))"
   ]
  },
  {
   "cell_type": "code",
   "execution_count": null,
   "metadata": {},
   "outputs": [
    {
     "name": "stdout",
     "output_type": "stream",
     "text": [
      "Probability of seeing less or equal to 10 successes out of 100 trials: 0.08744264162846349\n"
     ]
    }
   ],
   "source": [
    "# Binomial CDF for the number of successes\n",
    "\n",
    "n = 100\n",
    "p2 = 0.2\n",
    "\n",
    "print(\"Probability of seeing less or equal to 10 successes out of 100 trials:\", 1 - stats.binom.cdf(16, n, p1))"
   ]
  }
 ],
 "metadata": {
  "language_info": {
   "name": "python"
  }
 },
 "nbformat": 4,
 "nbformat_minor": 2
}
