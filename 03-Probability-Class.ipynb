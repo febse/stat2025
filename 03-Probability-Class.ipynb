{
 "cells": [
  {
   "cell_type": "markdown",
   "id": "748f8497",
   "metadata": {},
   "source": [
    "# Probability\n",
    "\n",
    "Open in Google Colab: [![Open in Colab](https://colab.research.google.com/assets/colab-badge.svg)](https://colab.research.google.com/github/febse/stat2025/blob/main/03-Probability-Class.ipynb)"
   ]
  },
  {
   "cell_type": "code",
   "execution_count": 2,
   "id": "c8fb55ff",
   "metadata": {},
   "outputs": [],
   "source": [
    "import matplotlib.pyplot as plt\n",
    "import numpy as np\n",
    "import pandas as pd\n",
    "import seaborn as sns"
   ]
  },
  {
   "cell_type": "markdown",
   "id": "80774d30",
   "metadata": {},
   "source": [
    "## Goats, Cars, and Probability\n",
    "\n",
    "https://www.mathwarehouse.com/monty-hall-simulation-online/"
   ]
  },
  {
   "cell_type": "markdown",
   "id": "eb21e28c",
   "metadata": {},
   "source": [
    "## 10 Bottles\n",
    "\n",
    "<div style=\"font-size: 48px;\">\n",
    "🍾 🍾 🍾 🍾 🍾 🍾 🍾 🍾 🔴 🔴\n",
    "</div>\n",
    "\n",
    "Bottles 1-8: No prize (🍾)  \n",
    "Bottles 9-10: Prize! (🔴)"
   ]
  },
  {
   "cell_type": "code",
   "execution_count": 3,
   "id": "db978178",
   "metadata": {},
   "outputs": [
    {
     "data": {
      "application/vnd.microsoft.datawrangler.viewer.v0+json": {
       "columns": [
        {
         "name": "index",
         "rawType": "int64",
         "type": "integer"
        },
        {
         "name": "Bottle",
         "rawType": "int64",
         "type": "integer"
        },
        {
         "name": "Prize",
         "rawType": "int64",
         "type": "integer"
        }
       ],
       "ref": "878fa435-c8af-4e7c-9005-1e02cc83a589",
       "rows": [
        [
         "0",
         "1",
         "0"
        ],
        [
         "1",
         "2",
         "0"
        ],
        [
         "2",
         "3",
         "0"
        ],
        [
         "3",
         "4",
         "0"
        ],
        [
         "4",
         "5",
         "0"
        ],
        [
         "5",
         "6",
         "0"
        ],
        [
         "6",
         "7",
         "0"
        ],
        [
         "7",
         "8",
         "0"
        ],
        [
         "8",
         "9",
         "1"
        ],
        [
         "9",
         "10",
         "1"
        ]
       ],
       "shape": {
        "columns": 2,
        "rows": 10
       }
      },
      "text/html": [
       "<div>\n",
       "<style scoped>\n",
       "    .dataframe tbody tr th:only-of-type {\n",
       "        vertical-align: middle;\n",
       "    }\n",
       "\n",
       "    .dataframe tbody tr th {\n",
       "        vertical-align: top;\n",
       "    }\n",
       "\n",
       "    .dataframe thead th {\n",
       "        text-align: right;\n",
       "    }\n",
       "</style>\n",
       "<table border=\"1\" class=\"dataframe\">\n",
       "  <thead>\n",
       "    <tr style=\"text-align: right;\">\n",
       "      <th></th>\n",
       "      <th>Bottle</th>\n",
       "      <th>Prize</th>\n",
       "    </tr>\n",
       "  </thead>\n",
       "  <tbody>\n",
       "    <tr>\n",
       "      <th>0</th>\n",
       "      <td>1</td>\n",
       "      <td>0</td>\n",
       "    </tr>\n",
       "    <tr>\n",
       "      <th>1</th>\n",
       "      <td>2</td>\n",
       "      <td>0</td>\n",
       "    </tr>\n",
       "    <tr>\n",
       "      <th>2</th>\n",
       "      <td>3</td>\n",
       "      <td>0</td>\n",
       "    </tr>\n",
       "    <tr>\n",
       "      <th>3</th>\n",
       "      <td>4</td>\n",
       "      <td>0</td>\n",
       "    </tr>\n",
       "    <tr>\n",
       "      <th>4</th>\n",
       "      <td>5</td>\n",
       "      <td>0</td>\n",
       "    </tr>\n",
       "    <tr>\n",
       "      <th>5</th>\n",
       "      <td>6</td>\n",
       "      <td>0</td>\n",
       "    </tr>\n",
       "    <tr>\n",
       "      <th>6</th>\n",
       "      <td>7</td>\n",
       "      <td>0</td>\n",
       "    </tr>\n",
       "    <tr>\n",
       "      <th>7</th>\n",
       "      <td>8</td>\n",
       "      <td>0</td>\n",
       "    </tr>\n",
       "    <tr>\n",
       "      <th>8</th>\n",
       "      <td>9</td>\n",
       "      <td>1</td>\n",
       "    </tr>\n",
       "    <tr>\n",
       "      <th>9</th>\n",
       "      <td>10</td>\n",
       "      <td>1</td>\n",
       "    </tr>\n",
       "  </tbody>\n",
       "</table>\n",
       "</div>"
      ],
      "text/plain": [
       "   Bottle  Prize\n",
       "0       1      0\n",
       "1       2      0\n",
       "2       3      0\n",
       "3       4      0\n",
       "4       5      0\n",
       "5       6      0\n",
       "6       7      0\n",
       "7       8      0\n",
       "8       9      1\n",
       "9      10      1"
      ]
     },
     "execution_count": 3,
     "metadata": {},
     "output_type": "execute_result"
    }
   ],
   "source": [
    "beer = pd.DataFrame({\n",
    "    \"Bottle\": np.arange(1, 11),\n",
    "    \"Prize\": [0, 0, 0, 0, 0, 0, 0, 0, 1, 1]\n",
    "})\n",
    "beer"
   ]
  },
  {
   "cell_type": "code",
   "execution_count": 5,
   "id": "6152924f",
   "metadata": {},
   "outputs": [
    {
     "data": {
      "application/vnd.microsoft.datawrangler.viewer.v0+json": {
       "columns": [
        {
         "name": "index",
         "rawType": "int64",
         "type": "integer"
        },
        {
         "name": "Bottle",
         "rawType": "int64",
         "type": "integer"
        },
        {
         "name": "Prize",
         "rawType": "int64",
         "type": "integer"
        }
       ],
       "ref": "67fd7fa0-dd81-412c-86fe-ccf08710e914",
       "rows": [
        [
         "9",
         "10",
         "1"
        ]
       ],
       "shape": {
        "columns": 2,
        "rows": 1
       }
      },
      "text/html": [
       "<div>\n",
       "<style scoped>\n",
       "    .dataframe tbody tr th:only-of-type {\n",
       "        vertical-align: middle;\n",
       "    }\n",
       "\n",
       "    .dataframe tbody tr th {\n",
       "        vertical-align: top;\n",
       "    }\n",
       "\n",
       "    .dataframe thead th {\n",
       "        text-align: right;\n",
       "    }\n",
       "</style>\n",
       "<table border=\"1\" class=\"dataframe\">\n",
       "  <thead>\n",
       "    <tr style=\"text-align: right;\">\n",
       "      <th></th>\n",
       "      <th>Bottle</th>\n",
       "      <th>Prize</th>\n",
       "    </tr>\n",
       "  </thead>\n",
       "  <tbody>\n",
       "    <tr>\n",
       "      <th>9</th>\n",
       "      <td>10</td>\n",
       "      <td>1</td>\n",
       "    </tr>\n",
       "  </tbody>\n",
       "</table>\n",
       "</div>"
      ],
      "text/plain": [
       "   Bottle  Prize\n",
       "9      10      1"
      ]
     },
     "execution_count": 5,
     "metadata": {},
     "output_type": "execute_result"
    }
   ],
   "source": [
    "beer.sample(n=1)"
   ]
  },
  {
   "cell_type": "code",
   "execution_count": 35,
   "id": "049222d4",
   "metadata": {},
   "outputs": [
    {
     "data": {
      "text/plain": [
       "np.int64(1930)"
      ]
     },
     "execution_count": 35,
     "metadata": {},
     "output_type": "execute_result"
    }
   ],
   "source": [
    "samples = beer.sample(n=10_000, replace=True)\n",
    "samples[\"Prize\"].sum()"
   ]
  },
  {
   "cell_type": "markdown",
   "id": "eb46dfb3",
   "metadata": {},
   "source": [
    "## The sample space and probability law of a fair coin toss\n",
    "\n",
    "You take two identical coins and toss them simultaneously. We want to describe the possible outcomes of this experiment and assign probabilities to each outcome.\n",
    "\n",
    "- Write down all possible outcomes of two tosses of a fair coin, using H for heads and T for tails.\n",
    "- Write down a probability law for this experiment"
   ]
  },
  {
   "cell_type": "code",
   "execution_count": null,
   "id": "465d4530",
   "metadata": {},
   "outputs": [
    {
     "data": {
      "text/plain": [
       "array(['Tails', 'Heads'], dtype='<U5')"
      ]
     },
     "execution_count": 27,
     "metadata": {},
     "output_type": "execute_result"
    }
   ],
   "source": [
    "np.random.choice(['Heads', 'Tails'], size=2)"
   ]
  },
  {
   "cell_type": "markdown",
   "id": "c4eed904",
   "metadata": {},
   "source": [
    "## Definition of Probability\n",
    "\n",
    "A probability law is a _function_ that assigns a number between 0 and 1 to each set (event) in the sample space. Let $\\Omega$ be a non-empty set and\n",
    "let $A$ and $B$ be subsets of $\\Omega$. A probability law must satisfy the following properties:\n",
    "\n",
    "1. $P(A) \\geq 0$ for all $A \\subseteq \\Omega$ (all events have non-negative probability).\n",
    "2. $P(\\emptyset) = 0$. (The probability of the empty set is 0).\n",
    "3. $P(\\Omega) = 1$. (The probability of the entire sample space is 1).\n",
    "4. If $A$ and $B$ are disjoint, i.e. $A \\cap B = \\emptyset$, then $P(A \\cup B) = P(A) + P(B)$.\n",
    "   \n",
    "   \n",
    "\n",
    "Probability of the Union of Two Events\n",
    "\n",
    "$$\n",
    "P(A \\cup B) = P(A) + P(B) - P(A \\cap B)\n",
    "$$\n",
    "\n",
    "The probability of an event is one minus the probability of the complement of the event.\n",
    "\n",
    "$$\n",
    "P(A) = 1 - P(A^c)\n",
    "$$\n"
   ]
  },
  {
   "cell_type": "markdown",
   "id": "cb0bff1c",
   "metadata": {},
   "source": [
    ":::{#exr-sample-space-coin}\n",
    "## The Sample Space of Three Coin Flips\n",
    "\n",
    "Consider an experiment of flipping a coin three times (each toss can result either in a head (H) or in a tail (T) ). \n",
    "\n",
    "- Write down the sample space of the experiment.\n",
    "- Write down the set $A$ consisting of all outcomes where the first flip is a head.\n",
    "- Write down the set $B$ consisting of all outcomes where the number of heads is even.\n",
    "- Assume that the coin is fair and that all outcomes are equally likely. What are the probabilities of the events $A$ and $B$?\n",
    ":::"
   ]
  },
  {
   "cell_type": "code",
   "execution_count": null,
   "id": "87af81de",
   "metadata": {},
   "outputs": [
    {
     "data": {
      "application/vnd.microsoft.datawrangler.viewer.v0+json": {
       "columns": [
        {
         "name": "index",
         "rawType": "int64",
         "type": "integer"
        },
        {
         "name": "Flip1",
         "rawType": "int64",
         "type": "integer"
        },
        {
         "name": "Flip2",
         "rawType": "int64",
         "type": "integer"
        },
        {
         "name": "Flip3",
         "rawType": "int64",
         "type": "integer"
        }
       ],
       "ref": "5ffa88b6-871a-4f29-bde7-6955a51ac65e",
       "rows": [
        [
         "0",
         "1",
         "0",
         "1"
        ],
        [
         "1",
         "1",
         "1",
         "0"
        ],
        [
         "2",
         "0",
         "1",
         "1"
        ],
        [
         "3",
         "1",
         "1",
         "1"
        ],
        [
         "4",
         "0",
         "1",
         "1"
        ],
        [
         "5",
         "0",
         "0",
         "1"
        ],
        [
         "6",
         "1",
         "0",
         "1"
        ],
        [
         "7",
         "1",
         "1",
         "1"
        ],
        [
         "8",
         "1",
         "0",
         "1"
        ],
        [
         "9",
         "1",
         "1",
         "0"
        ]
       ],
       "shape": {
        "columns": 3,
        "rows": 10
       }
      },
      "text/html": [
       "<div>\n",
       "<style scoped>\n",
       "    .dataframe tbody tr th:only-of-type {\n",
       "        vertical-align: middle;\n",
       "    }\n",
       "\n",
       "    .dataframe tbody tr th {\n",
       "        vertical-align: top;\n",
       "    }\n",
       "\n",
       "    .dataframe thead th {\n",
       "        text-align: right;\n",
       "    }\n",
       "</style>\n",
       "<table border=\"1\" class=\"dataframe\">\n",
       "  <thead>\n",
       "    <tr style=\"text-align: right;\">\n",
       "      <th></th>\n",
       "      <th>Flip1</th>\n",
       "      <th>Flip2</th>\n",
       "      <th>Flip3</th>\n",
       "    </tr>\n",
       "  </thead>\n",
       "  <tbody>\n",
       "    <tr>\n",
       "      <th>0</th>\n",
       "      <td>1</td>\n",
       "      <td>0</td>\n",
       "      <td>1</td>\n",
       "    </tr>\n",
       "    <tr>\n",
       "      <th>1</th>\n",
       "      <td>1</td>\n",
       "      <td>1</td>\n",
       "      <td>0</td>\n",
       "    </tr>\n",
       "    <tr>\n",
       "      <th>2</th>\n",
       "      <td>0</td>\n",
       "      <td>1</td>\n",
       "      <td>1</td>\n",
       "    </tr>\n",
       "    <tr>\n",
       "      <th>3</th>\n",
       "      <td>1</td>\n",
       "      <td>1</td>\n",
       "      <td>1</td>\n",
       "    </tr>\n",
       "    <tr>\n",
       "      <th>4</th>\n",
       "      <td>0</td>\n",
       "      <td>1</td>\n",
       "      <td>1</td>\n",
       "    </tr>\n",
       "    <tr>\n",
       "      <th>5</th>\n",
       "      <td>0</td>\n",
       "      <td>0</td>\n",
       "      <td>1</td>\n",
       "    </tr>\n",
       "    <tr>\n",
       "      <th>6</th>\n",
       "      <td>1</td>\n",
       "      <td>0</td>\n",
       "      <td>1</td>\n",
       "    </tr>\n",
       "    <tr>\n",
       "      <th>7</th>\n",
       "      <td>1</td>\n",
       "      <td>1</td>\n",
       "      <td>1</td>\n",
       "    </tr>\n",
       "    <tr>\n",
       "      <th>8</th>\n",
       "      <td>1</td>\n",
       "      <td>0</td>\n",
       "      <td>1</td>\n",
       "    </tr>\n",
       "    <tr>\n",
       "      <th>9</th>\n",
       "      <td>1</td>\n",
       "      <td>1</td>\n",
       "      <td>0</td>\n",
       "    </tr>\n",
       "  </tbody>\n",
       "</table>\n",
       "</div>"
      ],
      "text/plain": [
       "   Flip1  Flip2  Flip3\n",
       "0      1      0      1\n",
       "1      1      1      0\n",
       "2      0      1      1\n",
       "3      1      1      1\n",
       "4      0      1      1\n",
       "5      0      0      1\n",
       "6      1      0      1\n",
       "7      1      1      1\n",
       "8      1      0      1\n",
       "9      1      1      0"
      ]
     },
     "execution_count": 28,
     "metadata": {},
     "output_type": "execute_result"
    }
   ],
   "source": [
    "# A coin flipping game\n",
    "\n",
    "# Here we simulate the result of 3 coin flips repeated 10 times (1 for heads, 0 for tails)\n",
    "# np.random.choice selects a value at random from the given list\n",
    "# The size specifies the number of times the selection is made\n",
    "# In our case, we are selecting 3 values 10 times and storing the results in coin_3flips_df\n",
    "\n",
    "flips_array = np.random.choice([1, 0], size=[10, 3])\n",
    "flips = pd.DataFrame(flips_array, columns=['Flip1', 'Flip2', 'Flip3'])\n",
    "flips"
   ]
  },
  {
   "cell_type": "code",
   "execution_count": null,
   "id": "acb7247e",
   "metadata": {},
   "outputs": [
    {
     "data": {
      "text/plain": [
       "np.int64(7)"
      ]
     },
     "execution_count": 29,
     "metadata": {},
     "output_type": "execute_result"
    }
   ],
   "source": [
    "# The _number_ of games where the _first_ coin landed on heads (1) in each of the 10 game\n",
    "\n",
    "flips[\"Flip1\"].sum()"
   ]
  },
  {
   "cell_type": "code",
   "execution_count": null,
   "id": "4e1b3e4e",
   "metadata": {},
   "outputs": [
    {
     "data": {
      "text/plain": [
       "np.float64(0.7)"
      ]
     },
     "execution_count": 30,
     "metadata": {},
     "output_type": "execute_result"
    }
   ],
   "source": [
    "# The _proportion_ of games where the number of heads in each game is even\n",
    "\n",
    "flips['TotalHeads'] = flips.sum(axis=1)\n",
    "flips['EvenHeads'] = (flips['TotalHeads'] % 2 == 0)\n",
    "flips['EvenHeads'].mean()"
   ]
  },
  {
   "cell_type": "code",
   "execution_count": null,
   "id": "96f7a9a4",
   "metadata": {},
   "outputs": [
    {
     "data": {
      "application/vnd.microsoft.datawrangler.viewer.v0+json": {
       "columns": [
        {
         "name": "index",
         "rawType": "int64",
         "type": "integer"
        },
        {
         "name": "Flip1",
         "rawType": "int64",
         "type": "integer"
        },
        {
         "name": "Flip2",
         "rawType": "int64",
         "type": "integer"
        },
        {
         "name": "Flip3",
         "rawType": "int64",
         "type": "integer"
        },
        {
         "name": "TotalHeads",
         "rawType": "int64",
         "type": "integer"
        },
        {
         "name": "EvenHeads",
         "rawType": "bool",
         "type": "boolean"
        }
       ],
       "ref": "57e49784-739f-49dd-ae0e-2c34525defbb",
       "rows": [
        [
         "0",
         "1",
         "0",
         "1",
         "2",
         "True"
        ],
        [
         "1",
         "1",
         "1",
         "0",
         "2",
         "True"
        ],
        [
         "2",
         "0",
         "1",
         "1",
         "2",
         "True"
        ],
        [
         "3",
         "1",
         "1",
         "1",
         "3",
         "False"
        ],
        [
         "4",
         "0",
         "1",
         "1",
         "2",
         "True"
        ],
        [
         "5",
         "0",
         "0",
         "1",
         "1",
         "False"
        ],
        [
         "6",
         "1",
         "0",
         "1",
         "2",
         "True"
        ],
        [
         "7",
         "1",
         "1",
         "1",
         "3",
         "False"
        ],
        [
         "8",
         "1",
         "0",
         "1",
         "2",
         "True"
        ],
        [
         "9",
         "1",
         "1",
         "0",
         "2",
         "True"
        ]
       ],
       "shape": {
        "columns": 5,
        "rows": 10
       }
      },
      "text/html": [
       "<div>\n",
       "<style scoped>\n",
       "    .dataframe tbody tr th:only-of-type {\n",
       "        vertical-align: middle;\n",
       "    }\n",
       "\n",
       "    .dataframe tbody tr th {\n",
       "        vertical-align: top;\n",
       "    }\n",
       "\n",
       "    .dataframe thead th {\n",
       "        text-align: right;\n",
       "    }\n",
       "</style>\n",
       "<table border=\"1\" class=\"dataframe\">\n",
       "  <thead>\n",
       "    <tr style=\"text-align: right;\">\n",
       "      <th></th>\n",
       "      <th>Flip1</th>\n",
       "      <th>Flip2</th>\n",
       "      <th>Flip3</th>\n",
       "      <th>TotalHeads</th>\n",
       "      <th>EvenHeads</th>\n",
       "    </tr>\n",
       "  </thead>\n",
       "  <tbody>\n",
       "    <tr>\n",
       "      <th>0</th>\n",
       "      <td>1</td>\n",
       "      <td>0</td>\n",
       "      <td>1</td>\n",
       "      <td>2</td>\n",
       "      <td>True</td>\n",
       "    </tr>\n",
       "    <tr>\n",
       "      <th>1</th>\n",
       "      <td>1</td>\n",
       "      <td>1</td>\n",
       "      <td>0</td>\n",
       "      <td>2</td>\n",
       "      <td>True</td>\n",
       "    </tr>\n",
       "    <tr>\n",
       "      <th>2</th>\n",
       "      <td>0</td>\n",
       "      <td>1</td>\n",
       "      <td>1</td>\n",
       "      <td>2</td>\n",
       "      <td>True</td>\n",
       "    </tr>\n",
       "    <tr>\n",
       "      <th>3</th>\n",
       "      <td>1</td>\n",
       "      <td>1</td>\n",
       "      <td>1</td>\n",
       "      <td>3</td>\n",
       "      <td>False</td>\n",
       "    </tr>\n",
       "    <tr>\n",
       "      <th>4</th>\n",
       "      <td>0</td>\n",
       "      <td>1</td>\n",
       "      <td>1</td>\n",
       "      <td>2</td>\n",
       "      <td>True</td>\n",
       "    </tr>\n",
       "    <tr>\n",
       "      <th>5</th>\n",
       "      <td>0</td>\n",
       "      <td>0</td>\n",
       "      <td>1</td>\n",
       "      <td>1</td>\n",
       "      <td>False</td>\n",
       "    </tr>\n",
       "    <tr>\n",
       "      <th>6</th>\n",
       "      <td>1</td>\n",
       "      <td>0</td>\n",
       "      <td>1</td>\n",
       "      <td>2</td>\n",
       "      <td>True</td>\n",
       "    </tr>\n",
       "    <tr>\n",
       "      <th>7</th>\n",
       "      <td>1</td>\n",
       "      <td>1</td>\n",
       "      <td>1</td>\n",
       "      <td>3</td>\n",
       "      <td>False</td>\n",
       "    </tr>\n",
       "    <tr>\n",
       "      <th>8</th>\n",
       "      <td>1</td>\n",
       "      <td>0</td>\n",
       "      <td>1</td>\n",
       "      <td>2</td>\n",
       "      <td>True</td>\n",
       "    </tr>\n",
       "    <tr>\n",
       "      <th>9</th>\n",
       "      <td>1</td>\n",
       "      <td>1</td>\n",
       "      <td>0</td>\n",
       "      <td>2</td>\n",
       "      <td>True</td>\n",
       "    </tr>\n",
       "  </tbody>\n",
       "</table>\n",
       "</div>"
      ],
      "text/plain": [
       "   Flip1  Flip2  Flip3  TotalHeads  EvenHeads\n",
       "0      1      0      1           2       True\n",
       "1      1      1      0           2       True\n",
       "2      0      1      1           2       True\n",
       "3      1      1      1           3      False\n",
       "4      0      1      1           2       True\n",
       "5      0      0      1           1      False\n",
       "6      1      0      1           2       True\n",
       "7      1      1      1           3      False\n",
       "8      1      0      1           2       True\n",
       "9      1      1      0           2       True"
      ]
     },
     "execution_count": 31,
     "metadata": {},
     "output_type": "execute_result"
    }
   ],
   "source": [
    "flips"
   ]
  },
  {
   "cell_type": "markdown",
   "id": "f5e48d39",
   "metadata": {},
   "source": [
    "## The Sample Space of Two Die Rolls\n",
    "\n",
    "Consider an experiment of rolling a four sided die twice.\n",
    "\n",
    "![Four sided die](https://upload.wikimedia.org/wikipedia/commons/8/80/Dald%C3%B8s_dice.jpg){style=\"width:300px\"}\n",
    "\n",
    "- Write down the sample space of the experiment.\n",
    "- How many outcomes are in the sample space?\n",
    "- Write down the set (event) $A$ consisting of all outcomes where the sum of the two rolls is 7.\n",
    "- Write down the set (event) $B$ consisting of all outcomes where the sum of the two rolls is odd.\n",
    "- Write down the set (event) $C$ consisting of all outcomes where the first roll is greater than the second roll.\n",
    "- Write down the set (event) $D$ consisting of all outcomes where the two rolls are the same.\n",
    "\n",
    "Assume that the die is fair and that all outcomes are equally likely. \n",
    "- What are the probability of the events $A$ and $B$: $P(A)$ and $P(B)$?\n",
    "- What is the probability of the event $A \\cap B$?\n",
    "- What is the probability of the event $A \\cup B$?\n",
    "- What is the probability of the event $A^c$?\n",
    "- What is the probability of the event $A \\cap C$?"
   ]
  },
  {
   "cell_type": "code",
   "execution_count": null,
   "id": "1d952073",
   "metadata": {},
   "outputs": [
    {
     "data": {
      "text/plain": [
       "array([[4, 2],\n",
       "       [2, 2],\n",
       "       [1, 1],\n",
       "       [1, 3],\n",
       "       [3, 1],\n",
       "       [2, 1],\n",
       "       [1, 2],\n",
       "       [4, 4],\n",
       "       [3, 1],\n",
       "       [2, 1]])"
      ]
     },
     "execution_count": 32,
     "metadata": {},
     "output_type": "execute_result"
    }
   ],
   "source": [
    "# Simulation of 10 rolls of a four-sided die\n",
    "\n",
    "rolls_array = np.random.choice([1, 2, 3, 4], size=[10, 2])\n",
    "rolls_array"
   ]
  },
  {
   "cell_type": "code",
   "execution_count": null,
   "id": "c05c1ca2",
   "metadata": {},
   "outputs": [
    {
     "data": {
      "application/vnd.microsoft.datawrangler.viewer.v0+json": {
       "columns": [
        {
         "name": "index",
         "rawType": "int64",
         "type": "integer"
        },
        {
         "name": "Die1",
         "rawType": "int64",
         "type": "integer"
        },
        {
         "name": "Die2",
         "rawType": "int64",
         "type": "integer"
        }
       ],
       "ref": "52a6a35c-8101-4d59-bee9-6c2545d59872",
       "rows": [
        [
         "0",
         "4",
         "2"
        ],
        [
         "1",
         "2",
         "2"
        ],
        [
         "2",
         "1",
         "1"
        ],
        [
         "3",
         "1",
         "3"
        ],
        [
         "4",
         "3",
         "1"
        ],
        [
         "5",
         "2",
         "1"
        ],
        [
         "6",
         "1",
         "2"
        ],
        [
         "7",
         "4",
         "4"
        ],
        [
         "8",
         "3",
         "1"
        ],
        [
         "9",
         "2",
         "1"
        ]
       ],
       "shape": {
        "columns": 2,
        "rows": 10
       }
      },
      "text/html": [
       "<div>\n",
       "<style scoped>\n",
       "    .dataframe tbody tr th:only-of-type {\n",
       "        vertical-align: middle;\n",
       "    }\n",
       "\n",
       "    .dataframe tbody tr th {\n",
       "        vertical-align: top;\n",
       "    }\n",
       "\n",
       "    .dataframe thead th {\n",
       "        text-align: right;\n",
       "    }\n",
       "</style>\n",
       "<table border=\"1\" class=\"dataframe\">\n",
       "  <thead>\n",
       "    <tr style=\"text-align: right;\">\n",
       "      <th></th>\n",
       "      <th>Die1</th>\n",
       "      <th>Die2</th>\n",
       "    </tr>\n",
       "  </thead>\n",
       "  <tbody>\n",
       "    <tr>\n",
       "      <th>0</th>\n",
       "      <td>4</td>\n",
       "      <td>2</td>\n",
       "    </tr>\n",
       "    <tr>\n",
       "      <th>1</th>\n",
       "      <td>2</td>\n",
       "      <td>2</td>\n",
       "    </tr>\n",
       "    <tr>\n",
       "      <th>2</th>\n",
       "      <td>1</td>\n",
       "      <td>1</td>\n",
       "    </tr>\n",
       "    <tr>\n",
       "      <th>3</th>\n",
       "      <td>1</td>\n",
       "      <td>3</td>\n",
       "    </tr>\n",
       "    <tr>\n",
       "      <th>4</th>\n",
       "      <td>3</td>\n",
       "      <td>1</td>\n",
       "    </tr>\n",
       "    <tr>\n",
       "      <th>5</th>\n",
       "      <td>2</td>\n",
       "      <td>1</td>\n",
       "    </tr>\n",
       "    <tr>\n",
       "      <th>6</th>\n",
       "      <td>1</td>\n",
       "      <td>2</td>\n",
       "    </tr>\n",
       "    <tr>\n",
       "      <th>7</th>\n",
       "      <td>4</td>\n",
       "      <td>4</td>\n",
       "    </tr>\n",
       "    <tr>\n",
       "      <th>8</th>\n",
       "      <td>3</td>\n",
       "      <td>1</td>\n",
       "    </tr>\n",
       "    <tr>\n",
       "      <th>9</th>\n",
       "      <td>2</td>\n",
       "      <td>1</td>\n",
       "    </tr>\n",
       "  </tbody>\n",
       "</table>\n",
       "</div>"
      ],
      "text/plain": [
       "   Die1  Die2\n",
       "0     4     2\n",
       "1     2     2\n",
       "2     1     1\n",
       "3     1     3\n",
       "4     3     1\n",
       "5     2     1\n",
       "6     1     2\n",
       "7     4     4\n",
       "8     3     1\n",
       "9     2     1"
      ]
     },
     "execution_count": 33,
     "metadata": {},
     "output_type": "execute_result"
    }
   ],
   "source": [
    "rolls = pd.DataFrame(rolls_array, columns=['Die1', 'Die2'])\n",
    "rolls"
   ]
  },
  {
   "cell_type": "code",
   "execution_count": null,
   "id": "d516ceb0",
   "metadata": {},
   "outputs": [
    {
     "data": {
      "application/vnd.microsoft.datawrangler.viewer.v0+json": {
       "columns": [
        {
         "name": "index",
         "rawType": "int64",
         "type": "integer"
        },
        {
         "name": "Die1",
         "rawType": "int64",
         "type": "integer"
        },
        {
         "name": "Die2",
         "rawType": "int64",
         "type": "integer"
        },
        {
         "name": "GameSum",
         "rawType": "int64",
         "type": "integer"
        }
       ],
       "ref": "ad3f7e59-36ce-4326-b60c-589fc0eed1d6",
       "rows": [
        [
         "0",
         "4",
         "2",
         "6"
        ],
        [
         "1",
         "2",
         "2",
         "4"
        ],
        [
         "2",
         "1",
         "1",
         "2"
        ],
        [
         "3",
         "1",
         "3",
         "4"
        ],
        [
         "4",
         "3",
         "1",
         "4"
        ],
        [
         "5",
         "2",
         "1",
         "3"
        ],
        [
         "6",
         "1",
         "2",
         "3"
        ],
        [
         "7",
         "4",
         "4",
         "8"
        ],
        [
         "8",
         "3",
         "1",
         "4"
        ],
        [
         "9",
         "2",
         "1",
         "3"
        ]
       ],
       "shape": {
        "columns": 3,
        "rows": 10
       }
      },
      "text/html": [
       "<div>\n",
       "<style scoped>\n",
       "    .dataframe tbody tr th:only-of-type {\n",
       "        vertical-align: middle;\n",
       "    }\n",
       "\n",
       "    .dataframe tbody tr th {\n",
       "        vertical-align: top;\n",
       "    }\n",
       "\n",
       "    .dataframe thead th {\n",
       "        text-align: right;\n",
       "    }\n",
       "</style>\n",
       "<table border=\"1\" class=\"dataframe\">\n",
       "  <thead>\n",
       "    <tr style=\"text-align: right;\">\n",
       "      <th></th>\n",
       "      <th>Die1</th>\n",
       "      <th>Die2</th>\n",
       "      <th>GameSum</th>\n",
       "    </tr>\n",
       "  </thead>\n",
       "  <tbody>\n",
       "    <tr>\n",
       "      <th>0</th>\n",
       "      <td>4</td>\n",
       "      <td>2</td>\n",
       "      <td>6</td>\n",
       "    </tr>\n",
       "    <tr>\n",
       "      <th>1</th>\n",
       "      <td>2</td>\n",
       "      <td>2</td>\n",
       "      <td>4</td>\n",
       "    </tr>\n",
       "    <tr>\n",
       "      <th>2</th>\n",
       "      <td>1</td>\n",
       "      <td>1</td>\n",
       "      <td>2</td>\n",
       "    </tr>\n",
       "    <tr>\n",
       "      <th>3</th>\n",
       "      <td>1</td>\n",
       "      <td>3</td>\n",
       "      <td>4</td>\n",
       "    </tr>\n",
       "    <tr>\n",
       "      <th>4</th>\n",
       "      <td>3</td>\n",
       "      <td>1</td>\n",
       "      <td>4</td>\n",
       "    </tr>\n",
       "    <tr>\n",
       "      <th>5</th>\n",
       "      <td>2</td>\n",
       "      <td>1</td>\n",
       "      <td>3</td>\n",
       "    </tr>\n",
       "    <tr>\n",
       "      <th>6</th>\n",
       "      <td>1</td>\n",
       "      <td>2</td>\n",
       "      <td>3</td>\n",
       "    </tr>\n",
       "    <tr>\n",
       "      <th>7</th>\n",
       "      <td>4</td>\n",
       "      <td>4</td>\n",
       "      <td>8</td>\n",
       "    </tr>\n",
       "    <tr>\n",
       "      <th>8</th>\n",
       "      <td>3</td>\n",
       "      <td>1</td>\n",
       "      <td>4</td>\n",
       "    </tr>\n",
       "    <tr>\n",
       "      <th>9</th>\n",
       "      <td>2</td>\n",
       "      <td>1</td>\n",
       "      <td>3</td>\n",
       "    </tr>\n",
       "  </tbody>\n",
       "</table>\n",
       "</div>"
      ],
      "text/plain": [
       "   Die1  Die2  GameSum\n",
       "0     4     2        6\n",
       "1     2     2        4\n",
       "2     1     1        2\n",
       "3     1     3        4\n",
       "4     3     1        4\n",
       "5     2     1        3\n",
       "6     1     2        3\n",
       "7     4     4        8\n",
       "8     3     1        4\n",
       "9     2     1        3"
      ]
     },
     "execution_count": 34,
     "metadata": {},
     "output_type": "execute_result"
    }
   ],
   "source": [
    "rolls[\"GameSum\"] = rolls[\"Die1\"] + rolls[\"Die2\"]\n",
    "rolls"
   ]
  },
  {
   "cell_type": "code",
   "execution_count": null,
   "id": "bdd06cde",
   "metadata": {},
   "outputs": [
    {
     "data": {
      "application/vnd.microsoft.datawrangler.viewer.v0+json": {
       "columns": [
        {
         "name": "index",
         "rawType": "int64",
         "type": "integer"
        },
        {
         "name": "Die1",
         "rawType": "int64",
         "type": "integer"
        },
        {
         "name": "Die2",
         "rawType": "int64",
         "type": "integer"
        },
        {
         "name": "GameSum",
         "rawType": "int64",
         "type": "integer"
        },
        {
         "name": "SumGreater7",
         "rawType": "bool",
         "type": "boolean"
        }
       ],
       "ref": "43439ca1-1d0a-4ac4-985e-c406de59fa39",
       "rows": [
        [
         "0",
         "4",
         "2",
         "6",
         "False"
        ],
        [
         "1",
         "2",
         "2",
         "4",
         "False"
        ],
        [
         "2",
         "1",
         "1",
         "2",
         "False"
        ],
        [
         "3",
         "1",
         "3",
         "4",
         "False"
        ],
        [
         "4",
         "3",
         "1",
         "4",
         "False"
        ],
        [
         "5",
         "2",
         "1",
         "3",
         "False"
        ],
        [
         "6",
         "1",
         "2",
         "3",
         "False"
        ],
        [
         "7",
         "4",
         "4",
         "8",
         "True"
        ],
        [
         "8",
         "3",
         "1",
         "4",
         "False"
        ],
        [
         "9",
         "2",
         "1",
         "3",
         "False"
        ]
       ],
       "shape": {
        "columns": 4,
        "rows": 10
       }
      },
      "text/html": [
       "<div>\n",
       "<style scoped>\n",
       "    .dataframe tbody tr th:only-of-type {\n",
       "        vertical-align: middle;\n",
       "    }\n",
       "\n",
       "    .dataframe tbody tr th {\n",
       "        vertical-align: top;\n",
       "    }\n",
       "\n",
       "    .dataframe thead th {\n",
       "        text-align: right;\n",
       "    }\n",
       "</style>\n",
       "<table border=\"1\" class=\"dataframe\">\n",
       "  <thead>\n",
       "    <tr style=\"text-align: right;\">\n",
       "      <th></th>\n",
       "      <th>Die1</th>\n",
       "      <th>Die2</th>\n",
       "      <th>GameSum</th>\n",
       "      <th>SumGreater7</th>\n",
       "    </tr>\n",
       "  </thead>\n",
       "  <tbody>\n",
       "    <tr>\n",
       "      <th>0</th>\n",
       "      <td>4</td>\n",
       "      <td>2</td>\n",
       "      <td>6</td>\n",
       "      <td>False</td>\n",
       "    </tr>\n",
       "    <tr>\n",
       "      <th>1</th>\n",
       "      <td>2</td>\n",
       "      <td>2</td>\n",
       "      <td>4</td>\n",
       "      <td>False</td>\n",
       "    </tr>\n",
       "    <tr>\n",
       "      <th>2</th>\n",
       "      <td>1</td>\n",
       "      <td>1</td>\n",
       "      <td>2</td>\n",
       "      <td>False</td>\n",
       "    </tr>\n",
       "    <tr>\n",
       "      <th>3</th>\n",
       "      <td>1</td>\n",
       "      <td>3</td>\n",
       "      <td>4</td>\n",
       "      <td>False</td>\n",
       "    </tr>\n",
       "    <tr>\n",
       "      <th>4</th>\n",
       "      <td>3</td>\n",
       "      <td>1</td>\n",
       "      <td>4</td>\n",
       "      <td>False</td>\n",
       "    </tr>\n",
       "    <tr>\n",
       "      <th>5</th>\n",
       "      <td>2</td>\n",
       "      <td>1</td>\n",
       "      <td>3</td>\n",
       "      <td>False</td>\n",
       "    </tr>\n",
       "    <tr>\n",
       "      <th>6</th>\n",
       "      <td>1</td>\n",
       "      <td>2</td>\n",
       "      <td>3</td>\n",
       "      <td>False</td>\n",
       "    </tr>\n",
       "    <tr>\n",
       "      <th>7</th>\n",
       "      <td>4</td>\n",
       "      <td>4</td>\n",
       "      <td>8</td>\n",
       "      <td>True</td>\n",
       "    </tr>\n",
       "    <tr>\n",
       "      <th>8</th>\n",
       "      <td>3</td>\n",
       "      <td>1</td>\n",
       "      <td>4</td>\n",
       "      <td>False</td>\n",
       "    </tr>\n",
       "    <tr>\n",
       "      <th>9</th>\n",
       "      <td>2</td>\n",
       "      <td>1</td>\n",
       "      <td>3</td>\n",
       "      <td>False</td>\n",
       "    </tr>\n",
       "  </tbody>\n",
       "</table>\n",
       "</div>"
      ],
      "text/plain": [
       "   Die1  Die2  GameSum  SumGreater7\n",
       "0     4     2        6        False\n",
       "1     2     2        4        False\n",
       "2     1     1        2        False\n",
       "3     1     3        4        False\n",
       "4     3     1        4        False\n",
       "5     2     1        3        False\n",
       "6     1     2        3        False\n",
       "7     4     4        8         True\n",
       "8     3     1        4        False\n",
       "9     2     1        3        False"
      ]
     },
     "execution_count": 35,
     "metadata": {},
     "output_type": "execute_result"
    }
   ],
   "source": [
    "# Event A: sum of the two rolls is greater than 7\n",
    "# - we can sum the values in each row to get the total of the two rolls: this is what die_rolls.sum(axis=1). The axes in the arrays are indexed: 0 for rows and 1 for columns\n",
    "# - The == operator checks if the sum is equal to 7 and returns a boolean array (True and False)\n",
    "\n",
    "rolls[\"SumGreater7\"] = (rolls[\"GameSum\"] > 7)\n",
    "rolls"
   ]
  },
  {
   "cell_type": "code",
   "execution_count": null,
   "id": "f264d405",
   "metadata": {},
   "outputs": [
    {
     "data": {
      "text/plain": [
       "np.int64(1)"
      ]
     },
     "execution_count": 37,
     "metadata": {},
     "output_type": "execute_result"
    }
   ],
   "source": [
    "rolls[\"SumGreater7\"].sum()"
   ]
  },
  {
   "cell_type": "code",
   "execution_count": 38,
   "id": "bb752355",
   "metadata": {},
   "outputs": [],
   "source": [
    "# Event B: sum of the two rolls is odd (the != operator checks for inequality)\n",
    "# - as in the previous cell, we sum the values in each row to get the total of the two rolls\n",
    "# - % is the modulo operator. If the sum is even, the modulo of 2 will be 0, and if it is odd, the modulo will be 1\n",
    "# - the != operator checks if the modulo is different from zero and returns a boolean array (True and False)\n"
   ]
  },
  {
   "cell_type": "code",
   "execution_count": null,
   "id": "4a73afbb",
   "metadata": {},
   "outputs": [
    {
     "data": {
      "application/vnd.microsoft.datawrangler.viewer.v0+json": {
       "columns": [
        {
         "name": "index",
         "rawType": "int64",
         "type": "integer"
        },
        {
         "name": "Die1",
         "rawType": "int64",
         "type": "integer"
        },
        {
         "name": "Die2",
         "rawType": "int64",
         "type": "integer"
        },
        {
         "name": "GameSum",
         "rawType": "int64",
         "type": "integer"
        },
        {
         "name": "SumGreater7",
         "rawType": "bool",
         "type": "boolean"
        },
        {
         "name": "Die1GreaterDie2",
         "rawType": "bool",
         "type": "boolean"
        }
       ],
       "ref": "a3a2d09d-687f-40a4-aafd-6428049384eb",
       "rows": [
        [
         "0",
         "4",
         "2",
         "6",
         "False",
         "True"
        ],
        [
         "1",
         "2",
         "2",
         "4",
         "False",
         "False"
        ],
        [
         "2",
         "1",
         "1",
         "2",
         "False",
         "False"
        ],
        [
         "3",
         "1",
         "3",
         "4",
         "False",
         "False"
        ],
        [
         "4",
         "3",
         "1",
         "4",
         "False",
         "True"
        ],
        [
         "5",
         "2",
         "1",
         "3",
         "False",
         "True"
        ],
        [
         "6",
         "1",
         "2",
         "3",
         "False",
         "False"
        ],
        [
         "7",
         "4",
         "4",
         "8",
         "True",
         "False"
        ],
        [
         "8",
         "3",
         "1",
         "4",
         "False",
         "True"
        ],
        [
         "9",
         "2",
         "1",
         "3",
         "False",
         "True"
        ]
       ],
       "shape": {
        "columns": 5,
        "rows": 10
       }
      },
      "text/html": [
       "<div>\n",
       "<style scoped>\n",
       "    .dataframe tbody tr th:only-of-type {\n",
       "        vertical-align: middle;\n",
       "    }\n",
       "\n",
       "    .dataframe tbody tr th {\n",
       "        vertical-align: top;\n",
       "    }\n",
       "\n",
       "    .dataframe thead th {\n",
       "        text-align: right;\n",
       "    }\n",
       "</style>\n",
       "<table border=\"1\" class=\"dataframe\">\n",
       "  <thead>\n",
       "    <tr style=\"text-align: right;\">\n",
       "      <th></th>\n",
       "      <th>Die1</th>\n",
       "      <th>Die2</th>\n",
       "      <th>GameSum</th>\n",
       "      <th>SumGreater7</th>\n",
       "      <th>Die1GreaterDie2</th>\n",
       "    </tr>\n",
       "  </thead>\n",
       "  <tbody>\n",
       "    <tr>\n",
       "      <th>0</th>\n",
       "      <td>4</td>\n",
       "      <td>2</td>\n",
       "      <td>6</td>\n",
       "      <td>False</td>\n",
       "      <td>True</td>\n",
       "    </tr>\n",
       "    <tr>\n",
       "      <th>1</th>\n",
       "      <td>2</td>\n",
       "      <td>2</td>\n",
       "      <td>4</td>\n",
       "      <td>False</td>\n",
       "      <td>False</td>\n",
       "    </tr>\n",
       "    <tr>\n",
       "      <th>2</th>\n",
       "      <td>1</td>\n",
       "      <td>1</td>\n",
       "      <td>2</td>\n",
       "      <td>False</td>\n",
       "      <td>False</td>\n",
       "    </tr>\n",
       "    <tr>\n",
       "      <th>3</th>\n",
       "      <td>1</td>\n",
       "      <td>3</td>\n",
       "      <td>4</td>\n",
       "      <td>False</td>\n",
       "      <td>False</td>\n",
       "    </tr>\n",
       "    <tr>\n",
       "      <th>4</th>\n",
       "      <td>3</td>\n",
       "      <td>1</td>\n",
       "      <td>4</td>\n",
       "      <td>False</td>\n",
       "      <td>True</td>\n",
       "    </tr>\n",
       "    <tr>\n",
       "      <th>5</th>\n",
       "      <td>2</td>\n",
       "      <td>1</td>\n",
       "      <td>3</td>\n",
       "      <td>False</td>\n",
       "      <td>True</td>\n",
       "    </tr>\n",
       "    <tr>\n",
       "      <th>6</th>\n",
       "      <td>1</td>\n",
       "      <td>2</td>\n",
       "      <td>3</td>\n",
       "      <td>False</td>\n",
       "      <td>False</td>\n",
       "    </tr>\n",
       "    <tr>\n",
       "      <th>7</th>\n",
       "      <td>4</td>\n",
       "      <td>4</td>\n",
       "      <td>8</td>\n",
       "      <td>True</td>\n",
       "      <td>False</td>\n",
       "    </tr>\n",
       "    <tr>\n",
       "      <th>8</th>\n",
       "      <td>3</td>\n",
       "      <td>1</td>\n",
       "      <td>4</td>\n",
       "      <td>False</td>\n",
       "      <td>True</td>\n",
       "    </tr>\n",
       "    <tr>\n",
       "      <th>9</th>\n",
       "      <td>2</td>\n",
       "      <td>1</td>\n",
       "      <td>3</td>\n",
       "      <td>False</td>\n",
       "      <td>True</td>\n",
       "    </tr>\n",
       "  </tbody>\n",
       "</table>\n",
       "</div>"
      ],
      "text/plain": [
       "   Die1  Die2  GameSum  SumGreater7  Die1GreaterDie2\n",
       "0     4     2        6        False             True\n",
       "1     2     2        4        False            False\n",
       "2     1     1        2        False            False\n",
       "3     1     3        4        False            False\n",
       "4     3     1        4        False             True\n",
       "5     2     1        3        False             True\n",
       "6     1     2        3        False            False\n",
       "7     4     4        8         True            False\n",
       "8     3     1        4        False             True\n",
       "9     2     1        3        False             True"
      ]
     },
     "execution_count": 39,
     "metadata": {},
     "output_type": "execute_result"
    }
   ],
   "source": [
    "# Event C: first roll is greater than the second roll.\n",
    "# - the square brackets after the array are used to select parts of the array. The : operator selects all the elements in the array (in this case, all the rows)\n",
    "# - after a comma we can specify the column we want to select. The first column has index 0 and the second column has index 1\n",
    "# - the > operator checks if the value in the first column is greater than the value in the second column and returns a boolean array (True and False)\n",
    "\n",
    "rolls[\"Die1GreaterDie2\"] = rolls[\"Die1\"] > rolls[\"Die2\"]\n",
    "rolls"
   ]
  },
  {
   "cell_type": "code",
   "execution_count": null,
   "id": "659d2ae3",
   "metadata": {},
   "outputs": [
    {
     "data": {
      "application/vnd.microsoft.datawrangler.viewer.v0+json": {
       "columns": [
        {
         "name": "index",
         "rawType": "int64",
         "type": "integer"
        },
        {
         "name": "Die1",
         "rawType": "int64",
         "type": "integer"
        },
        {
         "name": "Die2",
         "rawType": "int64",
         "type": "integer"
        },
        {
         "name": "GameSum",
         "rawType": "int64",
         "type": "integer"
        },
        {
         "name": "SumGreater7",
         "rawType": "bool",
         "type": "boolean"
        },
        {
         "name": "Die1GreaterDie2",
         "rawType": "bool",
         "type": "boolean"
        },
        {
         "name": "Die1EqualsDie2",
         "rawType": "bool",
         "type": "boolean"
        }
       ],
       "ref": "f190916e-7b1d-4063-8ec1-2d699bf6ac3a",
       "rows": [
        [
         "0",
         "4",
         "2",
         "6",
         "False",
         "True",
         "False"
        ],
        [
         "1",
         "2",
         "2",
         "4",
         "False",
         "False",
         "True"
        ],
        [
         "2",
         "1",
         "1",
         "2",
         "False",
         "False",
         "True"
        ],
        [
         "3",
         "1",
         "3",
         "4",
         "False",
         "False",
         "False"
        ],
        [
         "4",
         "3",
         "1",
         "4",
         "False",
         "True",
         "False"
        ],
        [
         "5",
         "2",
         "1",
         "3",
         "False",
         "True",
         "False"
        ],
        [
         "6",
         "1",
         "2",
         "3",
         "False",
         "False",
         "False"
        ],
        [
         "7",
         "4",
         "4",
         "8",
         "True",
         "False",
         "True"
        ],
        [
         "8",
         "3",
         "1",
         "4",
         "False",
         "True",
         "False"
        ],
        [
         "9",
         "2",
         "1",
         "3",
         "False",
         "True",
         "False"
        ]
       ],
       "shape": {
        "columns": 6,
        "rows": 10
       }
      },
      "text/html": [
       "<div>\n",
       "<style scoped>\n",
       "    .dataframe tbody tr th:only-of-type {\n",
       "        vertical-align: middle;\n",
       "    }\n",
       "\n",
       "    .dataframe tbody tr th {\n",
       "        vertical-align: top;\n",
       "    }\n",
       "\n",
       "    .dataframe thead th {\n",
       "        text-align: right;\n",
       "    }\n",
       "</style>\n",
       "<table border=\"1\" class=\"dataframe\">\n",
       "  <thead>\n",
       "    <tr style=\"text-align: right;\">\n",
       "      <th></th>\n",
       "      <th>Die1</th>\n",
       "      <th>Die2</th>\n",
       "      <th>GameSum</th>\n",
       "      <th>SumGreater7</th>\n",
       "      <th>Die1GreaterDie2</th>\n",
       "      <th>Die1EqualsDie2</th>\n",
       "    </tr>\n",
       "  </thead>\n",
       "  <tbody>\n",
       "    <tr>\n",
       "      <th>0</th>\n",
       "      <td>4</td>\n",
       "      <td>2</td>\n",
       "      <td>6</td>\n",
       "      <td>False</td>\n",
       "      <td>True</td>\n",
       "      <td>False</td>\n",
       "    </tr>\n",
       "    <tr>\n",
       "      <th>1</th>\n",
       "      <td>2</td>\n",
       "      <td>2</td>\n",
       "      <td>4</td>\n",
       "      <td>False</td>\n",
       "      <td>False</td>\n",
       "      <td>True</td>\n",
       "    </tr>\n",
       "    <tr>\n",
       "      <th>2</th>\n",
       "      <td>1</td>\n",
       "      <td>1</td>\n",
       "      <td>2</td>\n",
       "      <td>False</td>\n",
       "      <td>False</td>\n",
       "      <td>True</td>\n",
       "    </tr>\n",
       "    <tr>\n",
       "      <th>3</th>\n",
       "      <td>1</td>\n",
       "      <td>3</td>\n",
       "      <td>4</td>\n",
       "      <td>False</td>\n",
       "      <td>False</td>\n",
       "      <td>False</td>\n",
       "    </tr>\n",
       "    <tr>\n",
       "      <th>4</th>\n",
       "      <td>3</td>\n",
       "      <td>1</td>\n",
       "      <td>4</td>\n",
       "      <td>False</td>\n",
       "      <td>True</td>\n",
       "      <td>False</td>\n",
       "    </tr>\n",
       "    <tr>\n",
       "      <th>5</th>\n",
       "      <td>2</td>\n",
       "      <td>1</td>\n",
       "      <td>3</td>\n",
       "      <td>False</td>\n",
       "      <td>True</td>\n",
       "      <td>False</td>\n",
       "    </tr>\n",
       "    <tr>\n",
       "      <th>6</th>\n",
       "      <td>1</td>\n",
       "      <td>2</td>\n",
       "      <td>3</td>\n",
       "      <td>False</td>\n",
       "      <td>False</td>\n",
       "      <td>False</td>\n",
       "    </tr>\n",
       "    <tr>\n",
       "      <th>7</th>\n",
       "      <td>4</td>\n",
       "      <td>4</td>\n",
       "      <td>8</td>\n",
       "      <td>True</td>\n",
       "      <td>False</td>\n",
       "      <td>True</td>\n",
       "    </tr>\n",
       "    <tr>\n",
       "      <th>8</th>\n",
       "      <td>3</td>\n",
       "      <td>1</td>\n",
       "      <td>4</td>\n",
       "      <td>False</td>\n",
       "      <td>True</td>\n",
       "      <td>False</td>\n",
       "    </tr>\n",
       "    <tr>\n",
       "      <th>9</th>\n",
       "      <td>2</td>\n",
       "      <td>1</td>\n",
       "      <td>3</td>\n",
       "      <td>False</td>\n",
       "      <td>True</td>\n",
       "      <td>False</td>\n",
       "    </tr>\n",
       "  </tbody>\n",
       "</table>\n",
       "</div>"
      ],
      "text/plain": [
       "   Die1  Die2  GameSum  SumGreater7  Die1GreaterDie2  Die1EqualsDie2\n",
       "0     4     2        6        False             True           False\n",
       "1     2     2        4        False            False            True\n",
       "2     1     1        2        False            False            True\n",
       "3     1     3        4        False            False           False\n",
       "4     3     1        4        False             True           False\n",
       "5     2     1        3        False             True           False\n",
       "6     1     2        3        False            False           False\n",
       "7     4     4        8         True            False            True\n",
       "8     3     1        4        False             True           False\n",
       "9     2     1        3        False             True           False"
      ]
     },
     "execution_count": 40,
     "metadata": {},
     "output_type": "execute_result"
    }
   ],
   "source": [
    "# Event D: $D$ the two rolls are the same.\n",
    "# Exactly as before, but here we check for equality using the == operator\n",
    "\n",
    "rolls[\"Die1EqualsDie2\"] = rolls[\"Die1\"] == rolls[\"Die2\"]\n",
    "rolls"
   ]
  },
  {
   "cell_type": "code",
   "execution_count": null,
   "id": "12f2e791",
   "metadata": {},
   "outputs": [
    {
     "data": {
      "application/vnd.microsoft.datawrangler.viewer.v0+json": {
       "columns": [
        {
         "name": "index",
         "rawType": "int64",
         "type": "integer"
        },
        {
         "name": "Die1",
         "rawType": "int64",
         "type": "integer"
        },
        {
         "name": "Die2",
         "rawType": "int64",
         "type": "integer"
        },
        {
         "name": "GameSum",
         "rawType": "int64",
         "type": "integer"
        },
        {
         "name": "SumGreater7",
         "rawType": "bool",
         "type": "boolean"
        },
        {
         "name": "Die1GreaterDie2",
         "rawType": "bool",
         "type": "boolean"
        },
        {
         "name": "Die1EqualsDie2",
         "rawType": "bool",
         "type": "boolean"
        },
        {
         "name": "BothEvents",
         "rawType": "bool",
         "type": "boolean"
        }
       ],
       "ref": "cc849146-86c9-409e-ab69-0ffbb5f55f5b",
       "rows": [
        [
         "0",
         "4",
         "2",
         "6",
         "False",
         "True",
         "False",
         "False"
        ],
        [
         "1",
         "2",
         "2",
         "4",
         "False",
         "False",
         "True",
         "False"
        ],
        [
         "2",
         "1",
         "1",
         "2",
         "False",
         "False",
         "True",
         "False"
        ],
        [
         "3",
         "1",
         "3",
         "4",
         "False",
         "False",
         "False",
         "False"
        ],
        [
         "4",
         "3",
         "1",
         "4",
         "False",
         "True",
         "False",
         "False"
        ],
        [
         "5",
         "2",
         "1",
         "3",
         "False",
         "True",
         "False",
         "False"
        ],
        [
         "6",
         "1",
         "2",
         "3",
         "False",
         "False",
         "False",
         "False"
        ],
        [
         "7",
         "4",
         "4",
         "8",
         "True",
         "False",
         "True",
         "False"
        ],
        [
         "8",
         "3",
         "1",
         "4",
         "False",
         "True",
         "False",
         "False"
        ],
        [
         "9",
         "2",
         "1",
         "3",
         "False",
         "True",
         "False",
         "False"
        ]
       ],
       "shape": {
        "columns": 7,
        "rows": 10
       }
      },
      "text/html": [
       "<div>\n",
       "<style scoped>\n",
       "    .dataframe tbody tr th:only-of-type {\n",
       "        vertical-align: middle;\n",
       "    }\n",
       "\n",
       "    .dataframe tbody tr th {\n",
       "        vertical-align: top;\n",
       "    }\n",
       "\n",
       "    .dataframe thead th {\n",
       "        text-align: right;\n",
       "    }\n",
       "</style>\n",
       "<table border=\"1\" class=\"dataframe\">\n",
       "  <thead>\n",
       "    <tr style=\"text-align: right;\">\n",
       "      <th></th>\n",
       "      <th>Die1</th>\n",
       "      <th>Die2</th>\n",
       "      <th>GameSum</th>\n",
       "      <th>SumGreater7</th>\n",
       "      <th>Die1GreaterDie2</th>\n",
       "      <th>Die1EqualsDie2</th>\n",
       "      <th>BothEvents</th>\n",
       "    </tr>\n",
       "  </thead>\n",
       "  <tbody>\n",
       "    <tr>\n",
       "      <th>0</th>\n",
       "      <td>4</td>\n",
       "      <td>2</td>\n",
       "      <td>6</td>\n",
       "      <td>False</td>\n",
       "      <td>True</td>\n",
       "      <td>False</td>\n",
       "      <td>False</td>\n",
       "    </tr>\n",
       "    <tr>\n",
       "      <th>1</th>\n",
       "      <td>2</td>\n",
       "      <td>2</td>\n",
       "      <td>4</td>\n",
       "      <td>False</td>\n",
       "      <td>False</td>\n",
       "      <td>True</td>\n",
       "      <td>False</td>\n",
       "    </tr>\n",
       "    <tr>\n",
       "      <th>2</th>\n",
       "      <td>1</td>\n",
       "      <td>1</td>\n",
       "      <td>2</td>\n",
       "      <td>False</td>\n",
       "      <td>False</td>\n",
       "      <td>True</td>\n",
       "      <td>False</td>\n",
       "    </tr>\n",
       "    <tr>\n",
       "      <th>3</th>\n",
       "      <td>1</td>\n",
       "      <td>3</td>\n",
       "      <td>4</td>\n",
       "      <td>False</td>\n",
       "      <td>False</td>\n",
       "      <td>False</td>\n",
       "      <td>False</td>\n",
       "    </tr>\n",
       "    <tr>\n",
       "      <th>4</th>\n",
       "      <td>3</td>\n",
       "      <td>1</td>\n",
       "      <td>4</td>\n",
       "      <td>False</td>\n",
       "      <td>True</td>\n",
       "      <td>False</td>\n",
       "      <td>False</td>\n",
       "    </tr>\n",
       "    <tr>\n",
       "      <th>5</th>\n",
       "      <td>2</td>\n",
       "      <td>1</td>\n",
       "      <td>3</td>\n",
       "      <td>False</td>\n",
       "      <td>True</td>\n",
       "      <td>False</td>\n",
       "      <td>False</td>\n",
       "    </tr>\n",
       "    <tr>\n",
       "      <th>6</th>\n",
       "      <td>1</td>\n",
       "      <td>2</td>\n",
       "      <td>3</td>\n",
       "      <td>False</td>\n",
       "      <td>False</td>\n",
       "      <td>False</td>\n",
       "      <td>False</td>\n",
       "    </tr>\n",
       "    <tr>\n",
       "      <th>7</th>\n",
       "      <td>4</td>\n",
       "      <td>4</td>\n",
       "      <td>8</td>\n",
       "      <td>True</td>\n",
       "      <td>False</td>\n",
       "      <td>True</td>\n",
       "      <td>False</td>\n",
       "    </tr>\n",
       "    <tr>\n",
       "      <th>8</th>\n",
       "      <td>3</td>\n",
       "      <td>1</td>\n",
       "      <td>4</td>\n",
       "      <td>False</td>\n",
       "      <td>True</td>\n",
       "      <td>False</td>\n",
       "      <td>False</td>\n",
       "    </tr>\n",
       "    <tr>\n",
       "      <th>9</th>\n",
       "      <td>2</td>\n",
       "      <td>1</td>\n",
       "      <td>3</td>\n",
       "      <td>False</td>\n",
       "      <td>True</td>\n",
       "      <td>False</td>\n",
       "      <td>False</td>\n",
       "    </tr>\n",
       "  </tbody>\n",
       "</table>\n",
       "</div>"
      ],
      "text/plain": [
       "   Die1  Die2  GameSum  SumGreater7  Die1GreaterDie2  Die1EqualsDie2  \\\n",
       "0     4     2        6        False             True           False   \n",
       "1     2     2        4        False            False            True   \n",
       "2     1     1        2        False            False            True   \n",
       "3     1     3        4        False            False           False   \n",
       "4     3     1        4        False             True           False   \n",
       "5     2     1        3        False             True           False   \n",
       "6     1     2        3        False            False           False   \n",
       "7     4     4        8         True            False            True   \n",
       "8     3     1        4        False             True           False   \n",
       "9     2     1        3        False             True           False   \n",
       "\n",
       "   BothEvents  \n",
       "0       False  \n",
       "1       False  \n",
       "2       False  \n",
       "3       False  \n",
       "4       False  \n",
       "5       False  \n",
       "6       False  \n",
       "7       False  \n",
       "8       False  \n",
       "9       False  "
      ]
     },
     "execution_count": 42,
     "metadata": {},
     "output_type": "execute_result"
    }
   ],
   "source": [
    "# The intersection of A and B (A and B occurring together)\n",
    "# - The & operator is used to combine two boolean arrays. It returns a new boolean array where the value is True only if both arrays have True in the same position\n",
    "\n",
    "rolls[\"BothEvents\"] = rolls[\"SumGreater7\"] & rolls[\"Die1GreaterDie2\"]\n",
    "rolls"
   ]
  },
  {
   "cell_type": "markdown",
   "id": "5f456628",
   "metadata": {},
   "source": [
    "## De Morgan's Laws\n",
    "\n",
    "De Morgan's laws describe the relationship between the complement of unions and intersections of sets. They state that:\n",
    "\n",
    "- The complement of the union of two sets is equal to the intersection of their complements:\n",
    "  \n",
    "  $$\n",
    "  (A \\cup B)^c = A^c \\cap B^c\n",
    "  $$\n",
    "\n",
    "- The complement of the intersection of two sets is equal to the union of their complements:\n",
    "    $$\n",
    "    (A \\cap B)^c = A^c \\cup B^c\n",
    "    $$\n",
    "\n",
    "## Exercise\n",
    "Assume that a class consists of the following students:\n",
    "\n",
    "- Students enrolled in the mathematics course: $A = \\{Maria, Elena, Simeon, Rada, Steli\\}$\n",
    "- Students enrolled in the statistics course: $B = \\{Peter, Pavel, Simeon, Rada\\}$\n",
    "\n",
    "- Write down the complements of $A$ and $B$ and the intersection of $A$ and $B$. \n",
    "- Then, write down the union of $A$ and $B$ and its complement. Describe these sets in words.\n",
    "- Write down the intersection of $A^c$ and $B^c$ and verify that it is the same as the complement of the union of $A$ and $B$."
   ]
  },
  {
   "cell_type": "markdown",
   "id": "0349b5e7",
   "metadata": {},
   "source": [
    "## Exercise \n",
    "\n",
    "A consumer survey indicates that 10 out of 100 customers in the store will buy an iPhone, another 20 percent will buy an Android phone, and 5 percent will buy both products.\n",
    "\n",
    "- What is the probability that a randomly selected customer will buy neither an iPhone nor an Android phone?\n",
    "- What is the probability that a randomly selected customer will buy _exactly_ one of the products?\n"
   ]
  },
  {
   "cell_type": "markdown",
   "id": "e6be3aa9",
   "metadata": {},
   "source": [
    "## Exercises\n",
    "\n",
    "\n",
    ":::{#exr-racing}\n",
    "## Racing Cars and Betting\n",
    "\n",
    "Consider a car race with 6 cars. You believe that the probability of winning is equal for the first three cars, and the probabilities of winning for cars 4, 5, and 6 are equal to 1/7. You must place a bet on one of the following two events:\n",
    "\n",
    "- One of cars 1, 2, or 5 wins\n",
    "- One of cars 3, 5, or 6 wins\n",
    "\n",
    "Which event would you bet on? Justify your answer. The reward is the same for both events.\n",
    "\n",
    ":::\n"
   ]
  },
  {
   "cell_type": "markdown",
   "id": "14bc1403",
   "metadata": {},
   "source": [
    "\n",
    ":::{#exr-dice-rolls-until-4}\n",
    "## Dice Rolls Until 2\n",
    "\n",
    "You take a four-sided die and roll it until you get a 2. Describe the sample space of the experiment.\n",
    "\n",
    ":::"
   ]
  },
  {
   "cell_type": "markdown",
   "id": "8dae6746",
   "metadata": {},
   "source": [
    "## Probability Model\n",
    "\n",
    "You are given a loaded four-sided die. The even numbers are twice as likely as the odd numbers, but the \n",
    "each even number is equally likely and each odd number is equally likely. Construct a probability model for this die."
   ]
  }
 ],
 "metadata": {
  "kernelspec": {
   "display_name": "abs",
   "language": "python",
   "name": "python3"
  },
  "language_info": {
   "codemirror_mode": {
    "name": "ipython",
    "version": 3
   },
   "file_extension": ".py",
   "mimetype": "text/x-python",
   "name": "python",
   "nbconvert_exporter": "python",
   "pygments_lexer": "ipython3",
   "version": "3.13.2"
  }
 },
 "nbformat": 4,
 "nbformat_minor": 5
}
