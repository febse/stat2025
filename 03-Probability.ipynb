{
 "cells": [
  {
   "cell_type": "code",
   "execution_count": 1,
   "id": "28c68a66",
   "metadata": {},
   "outputs": [
    {
     "name": "stdout",
     "output_type": "stream",
     "text": [
      "Collecting matplotlib-venn\r\n"
     ]
    },
    {
     "name": "stdout",
     "output_type": "stream",
     "text": [
      "  Downloading matplotlib-venn-1.1.1.tar.gz (40 kB)\r\n",
      "\u001b[?25l     \u001b[38;5;237m━━━━━━━━━━━━━━━━━━━━━━━━━━━━━━━━━━━━━━━━\u001b[0m \u001b[32m0.0/40.3 kB\u001b[0m \u001b[31m?\u001b[0m eta \u001b[36m-:--:--\u001b[0m\r",
      "\u001b[2K     \u001b[38;2;114;156;31m━━━━━━━━━━━━━━━━━━━━━━━━━━━━━━━━━━━━━━━━\u001b[0m \u001b[32m40.3/40.3 kB\u001b[0m \u001b[31m1.5 MB/s\u001b[0m eta \u001b[36m0:00:00\u001b[0m\r\n",
      "\u001b[?25h"
     ]
    },
    {
     "name": "stdout",
     "output_type": "stream",
     "text": [
      "  Installing build dependencies ... \u001b[?25l-"
     ]
    },
    {
     "name": "stdout",
     "output_type": "stream",
     "text": [
      "\b \b\\"
     ]
    },
    {
     "name": "stdout",
     "output_type": "stream",
     "text": [
      "\b \b|"
     ]
    },
    {
     "name": "stdout",
     "output_type": "stream",
     "text": [
      "\b \b/"
     ]
    },
    {
     "name": "stdout",
     "output_type": "stream",
     "text": [
      "\b \bdone\r\n"
     ]
    },
    {
     "name": "stdout",
     "output_type": "stream",
     "text": [
      "\u001b[?25h  Getting requirements to build wheel ... \u001b[?25l-\b \bdone\r\n"
     ]
    },
    {
     "name": "stdout",
     "output_type": "stream",
     "text": [
      "\u001b[?25h  Preparing metadata (pyproject.toml) ... \u001b[?25l-\b \bdone\r\n"
     ]
    },
    {
     "name": "stdout",
     "output_type": "stream",
     "text": [
      "\u001b[?25hRequirement already satisfied: matplotlib in /home/amarov/miniconda3/envs/abs/lib/python3.12/site-packages (from matplotlib-venn) (3.8.4)\r\n",
      "Requirement already satisfied: numpy in /home/amarov/miniconda3/envs/abs/lib/python3.12/site-packages (from matplotlib-venn) (1.26.4)\r\n",
      "Requirement already satisfied: scipy in /home/amarov/miniconda3/envs/abs/lib/python3.12/site-packages (from matplotlib-venn) (1.14.1)\r\n",
      "Requirement already satisfied: contourpy>=1.0.1 in /home/amarov/miniconda3/envs/abs/lib/python3.12/site-packages (from matplotlib->matplotlib-venn) (1.2.0)\r\n",
      "Requirement already satisfied: cycler>=0.10 in /home/amarov/miniconda3/envs/abs/lib/python3.12/site-packages (from matplotlib->matplotlib-venn) (0.11.0)\r\n",
      "Requirement already satisfied: fonttools>=4.22.0 in /home/amarov/miniconda3/envs/abs/lib/python3.12/site-packages (from matplotlib->matplotlib-venn) (4.51.0)\r\n",
      "Requirement already satisfied: kiwisolver>=1.3.1 in /home/amarov/miniconda3/envs/abs/lib/python3.12/site-packages (from matplotlib->matplotlib-venn) (1.4.4)\r\n",
      "Requirement already satisfied: packaging>=20.0 in /home/amarov/miniconda3/envs/abs/lib/python3.12/site-packages (from matplotlib->matplotlib-venn) (24.1)\r\n",
      "Requirement already satisfied: pillow>=8 in /home/amarov/miniconda3/envs/abs/lib/python3.12/site-packages (from matplotlib->matplotlib-venn) (10.4.0)\r\n",
      "Requirement already satisfied: pyparsing>=2.3.1 in /home/amarov/miniconda3/envs/abs/lib/python3.12/site-packages (from matplotlib->matplotlib-venn) (3.0.9)\r\n",
      "Requirement already satisfied: python-dateutil>=2.7 in /home/amarov/miniconda3/envs/abs/lib/python3.12/site-packages (from matplotlib->matplotlib-venn) (2.9.0.post0)\r\n",
      "Requirement already satisfied: six>=1.5 in /home/amarov/miniconda3/envs/abs/lib/python3.12/site-packages (from python-dateutil>=2.7->matplotlib->matplotlib-venn) (1.16.0)\r\n",
      "Building wheels for collected packages: matplotlib-venn\r\n"
     ]
    },
    {
     "name": "stdout",
     "output_type": "stream",
     "text": [
      "  Building wheel for matplotlib-venn (pyproject.toml) ... \u001b[?25l-"
     ]
    },
    {
     "name": "stdout",
     "output_type": "stream",
     "text": [
      "\b \bdone\r\n",
      "\u001b[?25h  Created wheel for matplotlib-venn: filename=matplotlib_venn-1.1.1-py3-none-any.whl size=45289 sha256=a1e130bd7e7a2d383dcbd1aa8ad42c3c2b980178b3d06982b39e55cc898084d3\r\n",
      "  Stored in directory: /home/amarov/.cache/pip/wheels/8a/29/52/4d90d9556445079f88255b87a75d951357eff52d0795b88f4f\r\n",
      "Successfully built matplotlib-venn\r\n"
     ]
    },
    {
     "name": "stdout",
     "output_type": "stream",
     "text": [
      "Installing collected packages: matplotlib-venn\r\n"
     ]
    },
    {
     "name": "stdout",
     "output_type": "stream",
     "text": [
      "Successfully installed matplotlib-venn-1.1.1\r\n"
     ]
    },
    {
     "name": "stdout",
     "output_type": "stream",
     "text": [
      "Note: you may need to restart the kernel to use updated packages.\n"
     ]
    }
   ],
   "source": [
    "#| echo: false\n",
    "#| output: false\n",
    "\n",
    "%pip install matplotlib-venn\n",
    "\n",
    "import matplotlib.pyplot as plt\n",
    "import numpy as np\n",
    "from matplotlib_venn import venn2, venn3"
   ]
  },
  {
   "cell_type": "markdown",
   "id": "748f8497",
   "metadata": {},
   "source": [
    "# Probability\n",
    "\n",
    "Open in Google Colab: [![Open in Colab](https://colab.research.google.com/assets/colab-badge.svg)](https://colab.research.google.com/github/febse/stat2024/blob/main/03-Probability.ipynb)\n",
    "\n",
    "\n",
    "Let us start with the definition of probability. We will return to it later in much more detail.\n",
    "\n",
    ":::{#def-probability}\n",
    "## Probability\n",
    "\n",
    "A probability law is a function that assigns a number between 0 and 1 to each (measurable) event in the sample space. Let $\\Omega$ be a non-empty set and\n",
    "let $A$ and $B$ be subsets of $\\Omega$. A probability law must satisfy the following properties:\n",
    "\n",
    "1. $P(A) \\geq 0$ for all $A \\subseteq \\Omega$ (all events have non-negative probability).\n",
    "2. $P(\\emptyset) = 0$. (The probability of the empty set is 0).\n",
    "3. $P(\\Omega) = 1$. (The probability of the entire sample space is 1).\n",
    "4. If $A$ and $B$ are disjoint, i.e. $A \\cap B = \\emptyset$, then $P(A \\cup B) = P(A) + P(B)$.\n",
    "\n",
    ":::\n",
    "\n",
    "In the following, we will discuss the key terms in the definition of probability.\n"
   ]
  },
  {
   "cell_type": "markdown",
   "id": "4279265c",
   "metadata": {},
   "source": [
    "\n",
    "## Sets\n",
    "\n",
    "As you can see the definition of probability heavily relies on the concept of sets. A set is a collection of distinct objects, considered as an object in its own right. We will use capital letters to denote sets, and the elements of a set will be denoted by lowercase letters.\n",
    "\n",
    "There are a couple of important set operations that we will use in the context of probability:\n",
    "\n",
    "1. **Union**: The union of two sets $A$ and $B$ is the set of elements that are in $A$, in $B$, or in both. The union of $A$ and $B$ is denoted by $A \\cup B$.\n",
    "2. **Intersection**: The intersection of two sets $A$ and $B$ is the set of elements that are in both $A$ and $B$. The intersection of $A$ and $B$ is denoted by $A \\cap B$.\n",
    "3. **Complement**: The complement of a set $A$ is the set of elements that are not in $A$. The complement of $A$ is denoted by $A^c$ (or sometimes $\\bar{A}$).\n",
    "4. **Difference**: The difference of two sets $A$ and $B$ is the set of elements that are in $A$ but not in $B$. The difference of $A$ and $B$ is denoted by $A \\setminus B$.\n",
    "\n",
    ":::{#def-emptyset}\n",
    "## The Empty Set\n",
    "\n",
    "The empty set is a special set that contains no elements. It is denoted by $\\emptyset$ or $\\{\\}$.\n",
    "\n",
    ":::\n",
    "\n",
    ":::{#def-disjoint}\n",
    "## Disjoint sets\n",
    "\n",
    "Two sets are called disjoint if their intersection is the empty set, i.e. $A \\cap B = \\emptyset$. This means that the sets do not have any elements in common.\n",
    "\n",
    ":::\n",
    "\n",
    "\n",
    "The union and intersection of sets are _commutative_ and _distributive_. Commutative means that you can change the order of the sets without changing the result.\n",
    "\n",
    "- $A \\cup B = B \\cup A$.\n",
    "- $A \\cap B = B \\cap A$.\n",
    "\n",
    "Distributive means that you can distribute the union or intersection over the other set.\n",
    "\n",
    "- $A \\cup (B \\cap C) = (A \\cup B) \\cap (A \\cup C)$.\n",
    "- $A \\cap (B \\cup C) = (A \\cap B) \\cup (A \\cap C)$.\n",
    "\n",
    ":::{#thm-de-morgan}\n",
    "## De Morgan's Laws\n",
    "\n",
    "De Morgan's laws are a pair of rules that relate the complement of the union and the intersection of sets.\n",
    "\n",
    "1. The complement of the union of two sets is the intersection of their complements: $(A \\cup B)^c = A^c \\cap B^c$.\n",
    "2. The complement of the intersection of two sets is the union of their complements: $(A \\cap B)^c = A^c \\cup B^c$.\n",
    "\n",
    "This also generalizes to more than two sets.\n",
    "\n",
    "Let $A_1$, $A_2$, $\\ldots$, $A_n$ be a collection of sets.\n",
    "\n",
    "1. The complement of the union of the sets is the intersection of their complements: \n",
    "\n",
    "$$\n",
    "\\left(\\bigcup_{i=1}^n A_i\\right)^c = \\bigcap_{i=1}^n A_i^c\n",
    "$$.\n",
    "\n",
    "2. The complement of the intersection of the sets is the union of their complements:\n",
    "\n",
    "$$\n",
    "\\left(\\bigcap_{i=1}^n A_i\\right)^c = \\bigcup_{i=1}^n A_i^c\n",
    "$$.\n",
    "\n",
    "In the case of only three sets $A_1$, $A_2$, and $A_3$, the laws can be written as:\n",
    "\n",
    "1. $(A_1 \\cup A_2 \\cup A_3)^c = A_1^c \\cap A_2^c \\cap A_3^c$.\n",
    "2. $(A_1 \\cap A_2 \\cap A_3)^c = A_1^c \\cup A_2^c \\cup A_3^c$.\n",
    "\n",
    ":::"
   ]
  },
  {
   "cell_type": "code",
   "execution_count": 2,
   "id": "aa6692d2",
   "metadata": {},
   "outputs": [
    {
     "data": {
      "text/plain": [
       "<matplotlib_venn._common.VennDiagram at 0x7354f688dfa0>"
      ]
     },
     "execution_count": 2,
     "metadata": {},
     "output_type": "execute_result"
    },
    {
     "data": {
      "image/png": "[encoded data removed]",
      "text/plain": [
       "<Figure size 672x480 with 1 Axes>"
      ]
     },
     "metadata": {
      "image/png": {
       "height": 388,
       "width": 537
      }
     },
     "output_type": "display_data"
    }
   ],
   "source": [
    "#| label: fig-venn-intersecting\n",
    "#| fig-cap: \"Two sets intersecting\"\n",
    "\n",
    "venn2([\n",
    "    set(['1', '2', '3', '4']), \n",
    "    set(['2', '5', '6'])\n",
    "    ], \n",
    "    set_labels=[\"A\", \"B\"]\n",
    ")\n"
   ]
  },
  {
   "cell_type": "code",
   "execution_count": 3,
   "id": "13df86a7",
   "metadata": {},
   "outputs": [
    {
     "data": {
      "text/plain": [
       "<matplotlib_venn._common.VennDiagram at 0x7354f68e3ad0>"
      ]
     },
     "execution_count": 3,
     "metadata": {},
     "output_type": "execute_result"
    },
    {
     "data": {
      "image/png": "[encoded data removed]",
      "text/plain": [
       "<Figure size 672x480 with 1 Axes>"
      ]
     },
     "metadata": {
      "image/png": {
       "height": 266,
       "width": 540
      }
     },
     "output_type": "display_data"
    }
   ],
   "source": [
    "#| label: fig-venn-disjoint\n",
    "#| fig-cap: \"Two disjoint sets\"\n",
    "\n",
    "venn2([\n",
    "    set(['1', '2', '3', '4']), \n",
    "    set(['5', '6', '7'])\n",
    "    ],\n",
    "    set_labels=[\"C\", \"D\"]\n",
    ")\n"
   ]
  },
  {
   "cell_type": "markdown",
   "id": "0b68a5f1",
   "metadata": {},
   "source": [
    ":::{#exr-de-morgan}\n",
    "## De Morgan's Laws\n",
    "\n",
    "Use the sets from the Venn diagram in @fig-venn-intersecting to show the validity of De Morgan's laws. Assume that $\\Omega = A \\cup B$\n",
    "\n",
    "- The first set is $A = \\{1, 2, 3, 4\\}$\n",
    "- The second set is $B = \\{2, 5, 6\\}$\n",
    "\n",
    "- Write down the complements of $A$ and $B$ and the intersection of $A$ and $B$. \n",
    "- Then, write down the union of $A$ and $B$ and its complement. Compare the results.\n",
    "\n",
    ":::\n",
    ":::{.callout-note collapse=\"true\"}\n",
    "## Solution (click to expand)\n",
    "\n",
    "$$\n",
    "\\begin{align*}\n",
    "\\Omega & = A \\cup B = \\{1, 2, 3, 4, 5, 6\\} \\\\\n",
    "A^c & = \\{5, 6\\} \\\\\n",
    "B^c & = \\{1, 3, 4\\} \\\\\n",
    "A^c \\cup B^c & = \\{1, 3, 4, 5, 6\\} \\\\\n",
    "A \\cap B & = \\{2\\} \\\\\n",
    "(A \\cap B)^{c} & = \\{1, 3, 4, 5, 6\\} = A^c \\cup B^c\n",
    "\\end{align*}\n",
    "$$\n",
    ":::"
   ]
  },
  {
   "cell_type": "markdown",
   "id": "c4eed904",
   "metadata": {},
   "source": [
    "## Some Properties of Probability Laws\n",
    "\n",
    "The definition of probability appears simple, but we will see that we can derive surprisingly many properties from it.\n",
    "\n",
    "The probability of the union of two events is the sum of the probabilities of the events minus the probability of their intersection.\n",
    "\n",
    ":::{#thm-probability-union}\n",
    "## Probability of the Union of Two Events\n",
    "\n",
    "$$\n",
    "P(A \\cup B) = P(A) + P(B) - P(A \\cap B)\n",
    "$$\n",
    "\n",
    ":::\n",
    "\n",
    "\n",
    ":::{#thm-probability-of-complement}\n",
    "## Probability of the Complement\n",
    "\n",
    "The probability of an event is one minus the probability of the complement of the event.\n",
    "\n",
    "$$\n",
    "P(A) = 1 - P(A^c)\n",
    "$$\n",
    ":::\n",
    ":::{.proof}\n",
    "This follows directly from the definition of probability and the fact that $A \\cap A^c = \\emptyset$ and $A \\cup A^c = \\Omega$.\n",
    "\n",
    "$$\n",
    "P(A \\cup A^c) = P(\\Omega) = 1 \\implies P(A) + P(A^c) = 1\n",
    "$$\n",
    ":::\n",
    "\n",
    "\n",
    "For a justification of this formula, consider the Venn diagram in @fig-venn-intersecting. The probability of the union of the two events is the sum of the probabilities of the two events. However, the intersection of the two events is counted twice, so we need to subtract it once.\n",
    "\n",
    "Use the following Venn diagram to show the validity of the formula.\n",
    "\n",
    "$$\n",
    "P(A \\cup B \\cup C) = P(A) + P(A^c \\cap B) + P(A^c \\cap B^c \\cap C)\n",
    "$$\n"
   ]
  },
  {
   "cell_type": "code",
   "execution_count": 4,
   "id": "0b257452",
   "metadata": {},
   "outputs": [
    {
     "data": {
      "text/plain": [
       "<matplotlib_venn._common.VennDiagram at 0x7354f633ee10>"
      ]
     },
     "execution_count": 4,
     "metadata": {},
     "output_type": "execute_result"
    },
    {
     "data": {
      "image/png": "[encoded data removed]",
      "text/plain": [
       "<Figure size 672x480 with 1 Axes>"
      ]
     },
     "metadata": {
      "image/png": {
       "height": 388,
       "width": 436
      }
     },
     "output_type": "display_data"
    }
   ],
   "source": [
    "#| label: fig-venn-three-intersecting\n",
    "#| fig-cap: \"Three sets intersecting. The values shown within the sets are the number of elements in each set.\"\n",
    "\n",
    "venn3((\n",
    "    set(['1', '2', '3', '4', '9']), \n",
    "    set(['3', '5', '6', '7', '9']), \n",
    "    set(['2', '3', '5', '8'])),\n",
    "    set_labels=[\"A\", \"B\", \"C\"]\n",
    ")"
   ]
  },
  {
   "cell_type": "markdown",
   "id": "3c943287",
   "metadata": {},
   "source": [
    ":::{#exr-de-morgan-2}\n",
    "\n",
    "A consumer survey indicates that 60 percent of the customers will buy product A, 70 percent will buy product B, and 40 percent will buy both products. \n",
    "\n",
    "- What is the probability that a randomly selected customer will buy neither product A nor product B?\n",
    "- What is the probability that a randomly selected customer will buy _exactly_ on of the products?\n",
    "\n",
    ":::\n",
    "\n",
    ":::{.callout-note collapse=\"true\"}\n",
    "## Solution (click to expand)\n",
    "\n",
    "Let $A$ be the event that a customer buys product A and $B$ be the event that a customer buys product B. We are given that $P(A) = 0.6$, $P(B) = 0.7$, and $P(A \\cap B) = 0.4$. We want to find $P((A \\cup B)^c)$. The union of $A$ and $B$ is the event that a customer buys either product A or product B or both. The complement of this event is the event that a customer buys neither product A nor product B, which is what we are looking for.\n",
    "\n",
    "We know that the probability of the complement of any event is one minus the probability of the event. Therefore, we have\n",
    "\n",
    "$$\n",
    "P((A \\cup B)^c) = 1 - P(A \\cup B)\n",
    "$$\n",
    "\n",
    "Furthermore, we already know how to compute the probability of the union of two events: it is sum of the probabilities of the two events minus the probability of their intersection. \n",
    "\n",
    "$$\n",
    "P((A \\cup B)^c) = 1 - (P(A) + P(B) - P(A \\cap B))\n",
    "$$\n",
    "\n",
    "The last formula involves only quantities that we know, so we can plug in the numbers and compute the result.\n",
    "\n",
    "$$\n",
    "P((A \\cup B)^c) = 1 - (0.6 + 0.7 - 0.4) = 0.3\n",
    "$$\n",
    "\n",
    "For the second part, note that the event that a customer buys exactly one of the products is the event that a customer buys either product A or product B but not both.\n",
    "In a Venn diagram, this corresponds to the area that is in either $A$ or $B$ but not in $A \\cap B$ (i.e. the intersection of $A$ and $B$).\n",
    "\n",
    "This means that we need to compute $P(A \\cup B) - P(A \\cap B)$ and we know $P(A)$, $P(B)$, and $P(A \\cap B)$.\n",
    "\n",
    "$$\n",
    "P(A \\cup B) - P(A \\cap B) = P(A) + P(B) - P(A \\cap B) - P(A \\cap B) = P(A) + P(B) - 2P(A \\cap B)\n",
    "$$\n",
    "\n",
    ":::\n"
   ]
  },
  {
   "cell_type": "markdown",
   "id": "4b9d68a1",
   "metadata": {},
   "source": [
    "## The Sample Space\n",
    "\n",
    "Consider a couple of simple experiments with a random outcome\n",
    "\n",
    "- The classic example is flipping a coin once: the outcomes can be either heads or tails.\n",
    "- Another example is rolling a die: the outcomes can be any of the numbers 1, 2, 3, 4, 5, or 6.\n",
    "\n",
    "The sample space of the experiment is the set of _all_ possible outcomes. For the coin flip, the sample space is $\\{H, T\\}$, and for the die roll, the sample space is $\\{1, 2, 3, 4, 5, 6\\}$. These are very easy examples, but depending on the experiment, the sample space can be much more complex.\n",
    "\n",
    "There are no formulas that tell how to construct a sample space for a given experiment. However, there are two key properties that the sample space must satisfy:\n",
    "\n",
    "1. The sample space must be **exhaustive**: it must contain all possible outcomes. For example, if you are flipping a coin, the sample space must include both heads and tails: a sample space of $\\{H\\}$ would not be exhaustive.\n",
    "2. The elements of the sample space must be **mutually exclusive**: when the experiment is performed, only _one_ of the elements of $\\Omega$ can occur.\n",
    "\n"
   ]
  },
  {
   "cell_type": "markdown",
   "id": "82b0a581",
   "metadata": {},
   "source": [
    "\n",
    "## Events and Probability\n",
    "\n",
    "An event is a subset of the sample space. For example, if you are flipping a coin, the event of getting heads is the subset $\\{H\\}$ of the sample space $\\{H, T\\}$. If you are rolling a die, the event of getting an even number is the subset $\\{2, 4, 6\\}$ of the sample space $\\{1, 2, 3, 4, 5, 6\\}$.\n",
    "\n",
    "In experiments with a **finite number of equally likely outcomes**, the probability of an event is the number of outcomes in the event divided by the total number of outcomes in the sample space. For example, the probability of getting heads when flipping a coin is $1/2$ because there is one outcome in the event $\\{H\\}$ and two outcomes in the sample space $\\{H, T\\}$. The probability of getting an even number when rolling a die is $3/6 = 1/2$ because there are three outcomes in the event $\\{2, 4, 6\\}$ and six outcomes in the sample space $\\{1, 2, 3, 4, 5, 6\\}$.\n",
    "\n",
    "\n",
    "$$\n",
    "P(A) = \\frac{\\text{number of elements in } A}{\\text{number of elements in the sample space}}\n",
    "$$\n"
   ]
  },
  {
   "cell_type": "markdown",
   "id": "e743a9da",
   "metadata": {},
   "source": [
    "\n",
    "\n",
    "## Discrete Sample Spaces\n",
    "\n",
    "A sample space is discrete if it consists of a finite or countably infinite number of outcomes. For example, the sample space of rolling a die is discrete because there are only six possible outcomes. The sample space of flipping a coin is also discrete because there are only two possible outcomes. The number of accidents in a day is also a discrete sample space because it can only take on integer values (which are countably infinite). The sample space of selecting a real number between 0 and 1 (or any other real interval) is not discrete because there are uncountably many possible outcomes (Cantor's theorem).\n"
   ]
  },
  {
   "cell_type": "markdown",
   "id": "cb0bff1c",
   "metadata": {},
   "source": [
    ":::{#exr-sample-space-coin}\n",
    "## The Sample Space of Three Coin Flips\n",
    "\n",
    "Consider an experiment of flipping a coin three times (each toss can result either in a head (H) or in a tail (T) ). \n",
    "\n",
    "- Write down the sample space of the experiment.\n",
    "- Write down the set $A$ consisting of all outcomes where the first flip is a head.\n",
    "- Write down the set $B$ consisting of all outcomes where the number of heads is even.\n",
    "- Assume that the coin is fair and that all outcomes are equally likely. What are the probabilities of the events $A$ and $B$?\n",
    ":::\n",
    ":::{.callout-note collapse=\"true\"}\n",
    "## Solution (click to expand)\n",
    "\n",
    "The size of the sample space is $2^3 = 8$. The sample space is $\\{HHH, HHT, HTH, HTT, THH, THT, TTH, TTT\\}$.\n",
    "\n",
    "- The set $A$ consists of the outcomes $\\{HHH, HHT, HTH, HTT\\}$.\n",
    "- The set $B$ consists of the outcomes $\\{HHH, HHT, THH, TTT\\}$ (zero is an even number).\n",
    "\n",
    "The probability of the event $A$ is $4/8 = 1/2$ and the probability of the event $B$ is $4/8 = 1/2$.\n",
    ":::"
   ]
  },
  {
   "cell_type": "code",
   "execution_count": 5,
   "id": "87af81de",
   "metadata": {},
   "outputs": [
    {
     "data": {
      "text/plain": [
       "array([[1, 1, 0],\n",
       "       [0, 1, 0],\n",
       "       [1, 1, 0],\n",
       "       [1, 0, 1],\n",
       "       [0, 0, 0],\n",
       "       [1, 0, 0],\n",
       "       [0, 0, 1],\n",
       "       [1, 0, 1],\n",
       "       [1, 1, 1],\n",
       "       [1, 0, 0]])"
      ]
     },
     "execution_count": 5,
     "metadata": {},
     "output_type": "execute_result"
    }
   ],
   "source": [
    "# A coin flipping game\n",
    "\n",
    "# Here we simulate the result of 3 coin flips repeated 10 times (1 for heads, 0 for tails)\n",
    "# np.random.choice selects a value at random from the given list\n",
    "# The size specifies the number of times the selection is made\n",
    "# In our case, we are selecting 3 values 10 times and storing the results in coin_results\n",
    "\n",
    "coin_3flips = np.random.choice([1, 0], size=[10, 3])\n",
    "coin_3flips"
   ]
  },
  {
   "cell_type": "code",
   "execution_count": 6,
   "id": "e7441b1b",
   "metadata": {},
   "outputs": [
    {
     "data": {
      "text/plain": [
       "(10, 3)"
      ]
     },
     "execution_count": 6,
     "metadata": {},
     "output_type": "execute_result"
    }
   ],
   "source": [
    "# Check the shape of the coin_results array, it should be (10, 3), the same as the size we specified\n",
    "\n",
    "coin_3flips.shape"
   ]
  },
  {
   "cell_type": "code",
   "execution_count": 7,
   "id": "acb7247e",
   "metadata": {},
   "outputs": [
    {
     "data": {
      "text/plain": [
       "7"
      ]
     },
     "execution_count": 7,
     "metadata": {},
     "output_type": "execute_result"
    }
   ],
   "source": [
    "# The _number_ of games where the first coin landed on heads (1) in each of the 10 games\n",
    "# - We select the first column of the matrix (coin_results[:, 0]), because the first coin flip is stored in the first column\n",
    "# - We then check how many times the value 1 appears in the first column\n",
    "# - The sum() function is used to count the number of times the value 1 appears in the first column\n",
    "\n",
    "(coin_3flips[:, 0] == 1).sum()"
   ]
  },
  {
   "cell_type": "code",
   "execution_count": 8,
   "id": "4e1b3e4e",
   "metadata": {},
   "outputs": [
    {
     "data": {
      "text/plain": [
       "0.5"
      ]
     },
     "execution_count": 8,
     "metadata": {},
     "output_type": "execute_result"
    }
   ],
   "source": [
    "# The _proportion_ of games where the number of heads in each game is even\n",
    "\n",
    "(coin_3flips.sum(axis=1) % 2 == 0).mean()"
   ]
  },
  {
   "cell_type": "markdown",
   "id": "f5e48d39",
   "metadata": {},
   "source": [
    ":::{#exr-sample-space-die}\n",
    "## The Sample Space of Two Die Rolls\n",
    "\n",
    "Consider an experiment of rolling a four sided die twice.\n",
    "\n",
    "![Four sided die](https://upload.wikimedia.org/wikipedia/commons/8/80/Dald%C3%B8s_dice.jpg){style=\"width:300px\"}\n",
    "\n",
    "- Write down the sample space of the experiment.\n",
    "- How many outcomes are in the sample space?\n",
    "- Write down the set (event) $A$ consisting of all outcomes where the sum of the two rolls is 7.\n",
    "- Write down the set (event) $B$ consisting of all outcomes where the sum of the two rolls is odd.\n",
    "- Write down the set (event) $C$ consisting of all outcomes where the first roll is greater than the second roll.\n",
    "- Write down the set (event) $D$ consisting of all outcomes where the two rolls are the same.\n",
    "\n",
    "Assume that the die is fair and that all outcomes are equally likely. \n",
    "- What are the probability of the events $A$ and $B$: $P(A)$ and $P(B)$?\n",
    "- What is the probability of the event $A \\cap B$?\n",
    "- What is the probability of the event $A \\cup B$?\n",
    "- What is the probability of the event $A^c$?\n",
    "- What is the probability of the event $A \\cap C$?\n",
    "\n",
    ":::\n",
    "\n",
    ":::{.callout-note collapse=\"true\"}\n",
    "## Solution (click to expand)\n",
    "\n",
    "The size of the sample space is $4^2 = 16$. The sample space is\n",
    "\n",
    "$$\n",
    "\\Omega = \\left\\{\n",
    "    \\begin{array}{cccc}\n",
    "    (1, 1), (2, 1), (3, 1), (4, 1), \\\\\n",
    "    (1, 2), (2, 2), (3, 2), (4, 2), \\\\\n",
    "    (1, 3), (2, 3), (3, 3), (4, 3), \\\\\n",
    "    (1, 4), (2, 4), (3, 4), (4, 4)\n",
    "    \\end{array}\n",
    "\\right\\}\n",
    "$$\n",
    "\n",
    "The event $A$ consists of the outcomes $\\{(3, 4), (4, 3)\\}$. It has two elements, so assuming that each sequence in the sample space is equally likely, the probability of $A$ is $2/16 = 1/8$.\n",
    "\n",
    "The event $B$ consists of the outcomes $\\{(1, 2), (2, 1), (4, 1), (1, 4), (3, 4), (4, 3)\\}$. It has six elements, so the probability of $B$ is $6/16 = 3/8$.\n",
    "\n",
    "The event $C$ consists of the outcomes $\\{(2, 1), (3, 1), (4, 1), (3, 2), (4, 2), (4, 3)\\}$. It has six elements, so the probability of $C$ is $6/16 = 3/8$.\n",
    "\n",
    "The event $A \\cap B$ consists of the outcomes $\\{(3, 4), (4, 3)\\}$, so the probability of $A \\cap B$ is $2/16 = 1/8$. It is the same as the probability of $A$ because a is a subset of $B$ ($A \\subset B$).\n",
    "\n",
    "The event $A^c$ consists of $\\Omega \\ A$. Its probability is $P(A^c) = 1 - P(A) = 7/8$.\n",
    "The event $A \\cap C$ consists of only one outcome $\\{(3, 4)\\}$ (which is common to $A$ and $C$), so the probability of $A \\cap C$ is $1/16$.\n",
    "\n",
    ":::"
   ]
  },
  {
   "cell_type": "code",
   "execution_count": 9,
   "id": "1d952073",
   "metadata": {},
   "outputs": [
    {
     "data": {
      "text/plain": [
       "array([[4, 4],\n",
       "       [4, 1],\n",
       "       [3, 1],\n",
       "       [3, 4],\n",
       "       [4, 2],\n",
       "       [3, 3],\n",
       "       [3, 1],\n",
       "       [2, 1],\n",
       "       [1, 1],\n",
       "       [2, 1]])"
      ]
     },
     "execution_count": 9,
     "metadata": {},
     "output_type": "execute_result"
    }
   ],
   "source": [
    "# Simulation of 10 rolls of a four-sided die\n",
    "\n",
    "die_rolls = np.random.choice([1, 2, 3, 4], size=[10, 2])\n",
    "die_rolls"
   ]
  },
  {
   "cell_type": "code",
   "execution_count": 10,
   "id": "bdd06cde",
   "metadata": {},
   "outputs": [
    {
     "data": {
      "text/plain": [
       "array([False, False, False,  True, False, False, False, False, False,\n",
       "       False])"
      ]
     },
     "execution_count": 10,
     "metadata": {},
     "output_type": "execute_result"
    }
   ],
   "source": [
    "# Event A: sum of the two rolls is greater than 7\n",
    "# - we can sum the values in each row to get the total of the two rolls: this is what die_rolls.sum(axis=1). The axes in the arrays are indexed: 0 for rows and 1 for columns\n",
    "# - The == operator checks if the sum is equal to 7 and returns a boolean array (True and False)\n",
    "\n",
    "event_A = (die_rolls.sum(axis=1) == 7)\n",
    "event_A"
   ]
  },
  {
   "cell_type": "code",
   "execution_count": 11,
   "id": "bb752355",
   "metadata": {},
   "outputs": [
    {
     "data": {
      "text/plain": [
       "array([False,  True, False,  True, False, False, False,  True, False,\n",
       "        True])"
      ]
     },
     "execution_count": 11,
     "metadata": {},
     "output_type": "execute_result"
    }
   ],
   "source": [
    "# Event B: sum of the two rolls is odd (the != operator checks for inequality)\n",
    "# - as in the previous cell, we sum the values in each row to get the total of the two rolls\n",
    "# - % is the modulo operator. If the sum is even, the modulo of 2 will be 0, and if it is odd, the modulo will be 1\n",
    "# - the != operator checks if the modulo is different from zero and returns a boolean array (True and False)\n",
    "\n",
    "event_B = (die_rolls.sum(axis=1) % 2 != 0)\n",
    "event_B"
   ]
  },
  {
   "cell_type": "code",
   "execution_count": 12,
   "id": "4a73afbb",
   "metadata": {},
   "outputs": [
    {
     "data": {
      "text/plain": [
       "array([False,  True,  True, False,  True, False,  True,  True, False,\n",
       "        True])"
      ]
     },
     "execution_count": 12,
     "metadata": {},
     "output_type": "execute_result"
    }
   ],
   "source": [
    "# Event C: first roll is greater than the second roll.\n",
    "# - the square brackets after the array are used to select parts of the array. The : operator selects all the elements in the array (in this case, all the rows)\n",
    "# - after a comma we can specify the column we want to select. The first column has index 0 and the second column has index 1\n",
    "# - the > operator checks if the value in the first column is greater than the value in the second column and returns a boolean array (True and False)\n",
    "\n",
    "event_C = (die_rolls[:, 0] > die_rolls[:, 1])\n",
    "event_C"
   ]
  },
  {
   "cell_type": "code",
   "execution_count": 13,
   "id": "659d2ae3",
   "metadata": {},
   "outputs": [
    {
     "data": {
      "text/plain": [
       "array([ True, False, False, False, False,  True, False, False,  True,\n",
       "       False])"
      ]
     },
     "execution_count": 13,
     "metadata": {},
     "output_type": "execute_result"
    }
   ],
   "source": [
    "# Event D: $D$ the two rolls are the same.\n",
    "# Exactly as before, but here we check for equality using the == operator\n",
    "\n",
    "event_D = (die_rolls[:, 0] == die_rolls[:, 1])\n",
    "event_D"
   ]
  },
  {
   "cell_type": "code",
   "execution_count": 14,
   "id": "12f2e791",
   "metadata": {},
   "outputs": [
    {
     "data": {
      "text/plain": [
       "1"
      ]
     },
     "execution_count": 14,
     "metadata": {},
     "output_type": "execute_result"
    }
   ],
   "source": [
    "# The intersection of A and B (A and B occurring together)\n",
    "# - The & operator is used to combine two boolean arrays. It returns a new boolean array where the value is True only if both arrays have True in the same position\n",
    "\n",
    "event_A_and_B = event_A & event_B\n",
    "event_A_and_B.sum()"
   ]
  },
  {
   "cell_type": "markdown",
   "id": "e6be3aa9",
   "metadata": {},
   "source": [
    "## Exercises\n",
    "\n",
    "\n",
    ":::{#exr-racing}\n",
    "## Racing Cars and Betting\n",
    "\n",
    "Consider a car race with 6 cars. You believe that the probability of winning is equal for the first three cars, and the probabilities of winning for cars 4, 5, and 6 are equal to 1/7. You must place a bet on one of the following two events:\n",
    "\n",
    "- One of cars 1, 2, or 5 wins\n",
    "- One of cars 3, 5, or 6 wins\n",
    "\n",
    "Which event would you bet on? Justify your answer. The reward is the same for both events.\n",
    ":::\n",
    "\n",
    ":::{.callout-note collapse=\"true\"}\n",
    "## Solution (click to expand)\n",
    "\n",
    "Let $A_1, A_2, A_3, A_4, A_5, A_6$ be the events that cars 1, 2, 3, 4, 5, and 6 win, respectively. Only one car can be the winner, so these events\n",
    "cannot occur simultaneously (they are disjoint). We want to calculate the probability of the events\n",
    "\n",
    "$$\n",
    "A_1 \\cup A_2 \\cup A_5 \\quad \\text{and} \\quad A_3 \\cup A_5 \\cup A_6\n",
    "$$\n",
    "\n",
    "As the events are disjoint, the probability of their union is the sum of the probabilities of the events. We have\n",
    "\n",
    "$$\n",
    "P(A_1 \\cup A_2 \\cup A_5) = P(A_1) + P(A_2) + P(A_5) \\\\\n",
    "P(A_3 \\cup A_5 \\cup A_6) = P(A_3) + P(A_5) + P(A_6)\n",
    "$$\n",
    "\n",
    "We know the probabilities for the events $A_4, A_5, A_6$:\n",
    "\n",
    "$$\n",
    "P(A_4) = P(A_5) = P(A_6) = 1/7\n",
    "$$\n",
    "\n",
    "We are still missing the probabilities for the events $A_1, A_2, A_3$ but we can obtain them from the fact that the sum of the probabilities of all elements of the sample space must be 1.\n",
    "\n",
    "$$\n",
    "\\begin{align*}\n",
    "\\Omega = A_1 \\cup A_2 \\cup A_3 \\cup A_4 \\cup A_5 \\cup A_6 \\implies \\\\\n",
    "P(A_1) + P(A_2) + P(A_3) + P(A_4) + P(A_5) + P(A_6) = 1 \\\\\n",
    "P(A_1) + P(A_2) + P(A_3) + 3 \\cdot 1/7 = 1\n",
    "\\end{align*}\n",
    "$$\n",
    "\n",
    "We know that the first three probabilities are equal, so we can write\n",
    "\n",
    "$$\n",
    "3x + 3 \\cdot 1/7 = 1 \\implies x = 4/21 \\implies P(A_1) = P(A_2) = P(A_3) = 4/21\n",
    "$$\n",
    "\n",
    "Now you simply substitute these probabilities in the equations above and compare the results. As the rewards are the same, you should bet on the event with the higher probability.\n",
    "\n",
    ":::\n"
   ]
  },
  {
   "cell_type": "markdown",
   "id": "b0a096ca",
   "metadata": {},
   "source": [
    ":::{#exr-probability-customers}\n",
    "## Student Enrollment\n",
    "\n",
    "In a class of 100 students, 36 of them are enrolled in a statistics course, 28 in microeconomics, and 18 in an macroeconomics course. Furthermore, 22 of the students study both statistics and microeconomics, 12 study both statistics and macroeconomics, 9 study both microeconomics and macroeconomics, and 4 are enrolled in all three courses. You select a student at random. What is the probability that the student is enrolled in at least one of the courses?\n",
    "\n",
    ":::\n",
    ":::{.callout-note collapse=\"true\"}\n",
    "## Solution (click to expand)\n",
    "\n",
    "This exercise is about the inclusion-exclusion principle. Let $St$ be the event that a student is enrolled in statistics, $Mi$ be the event that a student is enrolled in microeconomics, and $Ma$ be the event that a student is enrolled in macroeconomics. We want to calculate the probability of the event $St \\cup Mi \\cup Ma$. We have\n",
    "\n",
    "$$\n",
    "P(St \\cup Mi \\cup Ma) = P(St) + P(Mi) + P(Ma) - P(St \\cap Mi) - P(St \\cap Ma) - P(Mi \\cap Ma) + P(St \\cap Mi \\cap Ma)\n",
    "$$\n",
    "\n",
    "Justify this formula by drawing a Venn diagram. The probabilities of the events $St$, $Mi$, and $Ma$ are $36/100$, $28/100$, and $18/100$, respectively. The probabilities of the pairwise intersections are $22/100$, $12/100$, and $9/100$. The probability of the intersection of all three events is $4/100$. Substitute these values into the formula above to get the result.\n",
    "\n",
    ":::"
   ]
  },
  {
   "cell_type": "markdown",
   "id": "14bc1403",
   "metadata": {},
   "source": [
    "\n",
    ":::{#exr-dice-rolls-until-4}\n",
    "## Dice Rolls Until 2\n",
    "\n",
    "You take a four-sided die and roll it until you get a 2. Describe the sample space of the experiment.\n",
    "\n",
    ":::"
   ]
  },
  {
   "cell_type": "markdown",
   "id": "8dae6746",
   "metadata": {},
   "source": [
    ":::{#exr-probability-model}\n",
    "## Probability Model\n",
    "\n",
    "You are given a loaded four-sided die. The even numbers are twice as likely as the odd numbers, but the \n",
    "each even number is equally likely and each odd number is equally likely. Construct a probability model for this die.\n",
    "\n",
    ":::\n",
    "\n",
    ":::{.callout-note collapse=\"true\"}\n",
    "## Solution (click to expand)\n",
    "\n",
    "The sample space of this experience is $\\{1, 2, 3, 4\\}$. We know the following:\n",
    "\n",
    "$$\n",
    "\\begin{align*}\n",
    "P(\\{1\\}) = P(\\{3\\}) = x \\\\\n",
    "P(\\{2\\}) = P(\\{4\\}) = 2x\n",
    "\\end{align*}\n",
    "$$\n",
    "\n",
    "As the probabilities of all outcomes must sum to 1, we have\n",
    "\n",
    "$$\n",
    "P(\\{1\\}) + P(\\{2\\}) + P(\\{3\\}) + P(\\{4\\}) = 1 \\implies 2x + 2x + x + x = 1 \\implies x = 1/6\n",
    "$$\n",
    "\n",
    "So the probability model is\n",
    "\n",
    "$$\n",
    "\\begin{align*}\n",
    "P(\\{1\\}) = P(\\{3\\}) = 1/6 \\\\\n",
    "P(\\{2\\}) = P(\\{4\\}) = 1/3\n",
    "\\end{align*}\n",
    "$$\n",
    "\n",
    ":::"
   ]
  },
  {
   "cell_type": "markdown",
   "id": "04d61523",
   "metadata": {},
   "source": [
    "\n",
    ":::{#exr-bonferroni}\n",
    "## Bonferroni's Inequalities\n",
    "\n",
    "Let $A$ and $B$ be two events. Show that\n",
    "\n",
    "$$\n",
    "P(A \\cap B) \\geq P(A) + P(B) - 1\n",
    "$$\n",
    "\n",
    "Also, let $A_1, A_2, \\ldots, A_n$ be a sequence of events. Show that\n",
    "\n",
    "$$\n",
    "P(\\cap_{i=1}^n A_i) \\geq \\sum_{i=1}^n P(A_i) - n + 1\n",
    "$$\n",
    "\n",
    ":::\n",
    ":::{.callout-note collapse=\"true\"}\n",
    "## Solution (click to expand)\n",
    "\n",
    "The first inequality follows directly from the definition of probability. We know that \n",
    "\n",
    "$$\n",
    "P(A \\cup B) = P(A) + P(B) - P(A \\cap B) \\leq 1\n",
    "$$\n",
    "\n",
    "For the second part, we need to use de Morgan's laws, specifically the second part of @thm-de-morgan. We have\n",
    "\n",
    "$$\n",
    "P(\\cap_{i=1}^n A_i) = 1 - P((\\cup_{i=1}^n A_i)^c) \\geq 1 - \\sum_{i=1}^n P(A_i^c) = 1 - \\sum_{i=1}^n (1 - P(A_i)) = \\sum_{i=1}^n P(A_i) - n + 1\n",
    "$$\n",
    "\n",
    ":::"
   ]
  },
  {
   "cell_type": "markdown",
   "id": "91ae9071",
   "metadata": {},
   "source": [
    ":::{#exr-probability}\n",
    "\n",
    "\n",
    "Let $A$ and $B$ be two sets. Describe the set $(A \\cap B^c) \\cup (A^c \\cap B)$ in words and use a Venn diagram to illustrate it. Use the Venn diagram to explain why the following formula holds:\n",
    "\n",
    "$$\n",
    "P((A \\cap B^c) \\cup (A^c \\cap B)) = P(A) + P(B) -2 P(A \\cap B),\n",
    "$$\n",
    ":::\n",
    "\n",
    ":::{.callout-note collapse=\"true\"}\n",
    "## Solution (click to expand)\n",
    "\n",
    "To describe the set $(A \\cap B^c) \\cup (A^c \\cap B)$ in words, we can use the customers and products example from @exr-de-morgan-2.\n",
    "Let $A$ be the event that a customer buys product A and $B$ be the event that a customer buys product B.\n",
    "\n",
    "The event $(A \\cap B^c)$ is the event that a customer buys product A but not product B. The event $(A^c \\cap B)$ is the event that a customer buys product B but not product A. The union of these two events is the event that a customer buys either product A or product B but not both, or in other words, the event that a customer buys exactly one of the products.\n",
    "\n",
    ":::"
   ]
  }
 ],
 "metadata": {
  "kernelspec": {
   "display_name": "stat2024",
   "language": "python",
   "name": "python3"
  },
  "language_info": {
   "codemirror_mode": {
    "name": "ipython",
    "version": 3
   },
   "file_extension": ".py",
   "mimetype": "text/x-python",
   "name": "python",
   "nbconvert_exporter": "python",
   "pygments_lexer": "ipython3",
   "version": "3.12.4"
  }
 },
 "nbformat": 4,
 "nbformat_minor": 5
}
