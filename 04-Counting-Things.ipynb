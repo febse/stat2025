{
 "cells": [
  {
   "cell_type": "code",
   "execution_count": 1,
   "metadata": {},
   "outputs": [],
   "source": [
    "#| echo: false\n",
    "\n",
    "import itertools\n",
    "import math\n",
    "import numpy as np"
   ]
  },
  {
   "cell_type": "markdown",
   "metadata": {},
   "source": [
    "# Counting Things\n",
    "\n",
    "Open in Google Colab: [![Open in Colab](https://colab.research.google.com/assets/colab-badge.svg)](https://colab.research.google.com/github/febse/stat2024/blob/main/04-Counting-Things.ipynb)\n",
    "\n",
    "\n",
    "While counting things may seem simple, it can become quite when the number of things to count grows. For example, consider the following problem:\n",
    "\n",
    "As the example of the garden of forking data shows, we need to be able to count the number of ways to choose a subset of elements from a set. This is the subject of combinatorics and there are four basic formulas that we will use to solve these problems.\n",
    "\n",
    "## The Counting Principle\n",
    "\n",
    "In the garden of forking data we needed to count the number of ways a collection of three white and one blue balls could produce samples of three balls, selected with replacement. \n",
    "\n",
    "The first selected ball can be any of the four balls in the box and there are four possibilities. The second selected ball can also be any of the four balls in the box and there are again four possibilities.\n",
    "\n",
    "Up to now we have a total of $4 \\times 4 = 16$ possibilities. The last selected balls can also be any of the four balls in the box and there are four possibilities. The total number of possibilities is $4 \\times 4 \\times 4 = 64$.\n",
    "\n",
    "More generally, there are $n^s$ ways to select $s$ ordered elements from a set of $n$ elements, with replacement.\n",
    "\n",
    "Even more generally, consider a DJ who has a set of $m_s$ salsa songs, $m_b$ bachata songs and $m_r$ reggaeton songs. The DJ plans to play a set of three songs, each of a different genre: first a salsa, then a bachata, and finally a reggaeton song. How many possible sequences of songs can the DJ play?\n",
    "\n",
    "- There are $m_s$ ways to select a salsa song.\n",
    "- There are $m_b$ ways to select a bachata song.\n",
    "- There are $m_r$ ways to select a reggaeton song.\n",
    "\n",
    "The total number of possible sequences of songs is $m_s \\times m_b \\times m_r$ where the first song is a salsa song, the second song is a bachata song, and the third song is a reggaeton song.\n"
   ]
  },
  {
   "cell_type": "code",
   "execution_count": 2,
   "metadata": {},
   "outputs": [
    {
     "data": {
      "text/plain": [
       "1600000"
      ]
     },
     "execution_count": 2,
     "metadata": {},
     "output_type": "execute_result"
    }
   ],
   "source": [
    "# An example: all possible 3-song playlists where the first sort is a salsa song, the second a bachata song, and the third a reggaeton song.\n",
    "\n",
    "m_s = 200 # Salsa songs\n",
    "m_b = 80 # Bachata songs\n",
    "m_r = 100 # Reggaeton songs\n",
    "\n",
    "m_s * m_b * m_r"
   ]
  },
  {
   "cell_type": "markdown",
   "metadata": {},
   "source": [
    "## Permutations\n",
    "\n",
    "A permutation is an arrangement of objects in a specific order. If we have a set of $n$ (distinct) objects and we want to arrange them in a specific order, there are $n!$ ways to do this. The factorial function is defined as:\n",
    "\n",
    "$$\n",
    "n! = n \\times (n-1) \\times (n-2) \\times \\ldots \\times 2 \\times 1\n",
    "$$\n",
    "\n",
    "How to explain this formula? Let's set $n = 5$ and consider a set of five songs that a DJ wants to play in sequence. The first song can be any of the five songs, the second song can be any of the remaining four songs, the third song can be any of the remaining three songs, and so on. The total number of ways to arrange the songs is $5 \\times 4 \\times 3 \\times 2 \\times 1 = 5! = 120$.\n"
   ]
  },
  {
   "cell_type": "code",
   "execution_count": 3,
   "metadata": {},
   "outputs": [
    {
     "data": {
      "text/plain": [
       "120"
      ]
     },
     "execution_count": 3,
     "metadata": {},
     "output_type": "execute_result"
    }
   ],
   "source": [
    "# To compute the factorial you can use the factorial function from the math module (which is imported here at the top of the notebook). \n",
    "\n",
    "math.factorial(5)"
   ]
  },
  {
   "cell_type": "markdown",
   "metadata": {},
   "source": [
    "\n",
    ":::{#exm-permutations}\n",
    "## Permutations\n",
    "\n",
    "You have 4 books on your shelf at home. In how many ways can you arrange them?\n",
    "\n",
    ":::\n"
   ]
  },
  {
   "cell_type": "code",
   "execution_count": 4,
   "metadata": {},
   "outputs": [
    {
     "name": "stdout",
     "output_type": "stream",
     "text": [
      "The number of possible arrangements is 3! = 3*2*1 = 6\n",
      "Check it out: 6\n",
      "All possible arrangements of the books:\n",
      "('Framed', 'Malas', 'Ellipses')\n",
      "('Framed', 'Ellipses', 'Malas')\n",
      "('Malas', 'Framed', 'Ellipses')\n",
      "('Malas', 'Ellipses', 'Framed')\n",
      "('Ellipses', 'Framed', 'Malas')\n",
      "('Ellipses', 'Malas', 'Framed')\n"
     ]
    }
   ],
   "source": [
    "# Create a list of 3 books\n",
    "\n",
    "books3 = [\"Framed\", \"Malas\", \"Ellipses\"]\n",
    "\n",
    "print(\"The number of possible arrangements is 3! = 3*2*1 = 6\")\n",
    "print(\"Check it out:\", math.factorial(3))\n",
    "\n",
    "print(\"All possible arrangements of the books:\")\n",
    "\n",
    "# NOTE: code for illustration only\n",
    "# Generate all permutations of the books in the list above and print them\n",
    "for p in itertools.permutations(books3):\n",
    "    print(p)\n"
   ]
  },
  {
   "cell_type": "code",
   "execution_count": 5,
   "metadata": {},
   "outputs": [
    {
     "name": "stdout",
     "output_type": "stream",
     "text": [
      "The number of possible arrangements is 4! = 4*3*2*1 = 24\n",
      "Compare it with the result from math.factorial: 24\n",
      "All possible arrangements of the books:\n",
      "('Framed', 'Malas', 'Ellipses', 'Beautiful Days')\n",
      "('Framed', 'Malas', 'Beautiful Days', 'Ellipses')\n",
      "('Framed', 'Ellipses', 'Malas', 'Beautiful Days')\n",
      "('Framed', 'Ellipses', 'Beautiful Days', 'Malas')\n",
      "('Framed', 'Beautiful Days', 'Malas', 'Ellipses')\n",
      "('Framed', 'Beautiful Days', 'Ellipses', 'Malas')\n",
      "('Malas', 'Framed', 'Ellipses', 'Beautiful Days')\n",
      "('Malas', 'Framed', 'Beautiful Days', 'Ellipses')\n",
      "('Malas', 'Ellipses', 'Framed', 'Beautiful Days')\n",
      "('Malas', 'Ellipses', 'Beautiful Days', 'Framed')\n",
      "('Malas', 'Beautiful Days', 'Framed', 'Ellipses')\n",
      "('Malas', 'Beautiful Days', 'Ellipses', 'Framed')\n",
      "('Ellipses', 'Framed', 'Malas', 'Beautiful Days')\n",
      "('Ellipses', 'Framed', 'Beautiful Days', 'Malas')\n",
      "('Ellipses', 'Malas', 'Framed', 'Beautiful Days')\n",
      "('Ellipses', 'Malas', 'Beautiful Days', 'Framed')\n",
      "('Ellipses', 'Beautiful Days', 'Framed', 'Malas')\n",
      "('Ellipses', 'Beautiful Days', 'Malas', 'Framed')\n",
      "('Beautiful Days', 'Framed', 'Malas', 'Ellipses')\n",
      "('Beautiful Days', 'Framed', 'Ellipses', 'Malas')\n",
      "('Beautiful Days', 'Malas', 'Framed', 'Ellipses')\n",
      "('Beautiful Days', 'Malas', 'Ellipses', 'Framed')\n",
      "('Beautiful Days', 'Ellipses', 'Framed', 'Malas')\n",
      "('Beautiful Days', 'Ellipses', 'Malas', 'Framed')\n"
     ]
    }
   ],
   "source": [
    "# We can repeat this for a list of 4 books\n",
    "\n",
    "books4 = [\"Framed\", \"Malas\", \"Ellipses\", \"Beautiful Days\"]\n",
    "\n",
    "print(\"The number of possible arrangements is 4! = 4*3*2*1 = 24\")\n",
    "print(\"Compare it with the result from math.factorial:\", math.factorial(4))\n",
    "\n",
    "print(\"All possible arrangements of the books:\")\n",
    "\n",
    "# NOTE: # NOTE: code for illustration only\n",
    "for p in itertools.permutations(books4):\n",
    "    print(p)"
   ]
  },
  {
   "cell_type": "markdown",
   "metadata": {},
   "source": [
    ":::{#exr-permutations}\n",
    "## Permutations\n",
    "\n",
    "A small company has 16 employees. They want to line up for a group photo. In how many ways can they arrange themselves?\n",
    "\n",
    ":::"
   ]
  },
  {
   "cell_type": "code",
   "execution_count": 6,
   "metadata": {},
   "outputs": [
    {
     "data": {
      "text/plain": [
       "20922789888000"
      ]
     },
     "execution_count": 6,
     "metadata": {},
     "output_type": "execute_result"
    }
   ],
   "source": [
    "math.factorial(16)"
   ]
  },
  {
   "cell_type": "code",
   "execution_count": 7,
   "metadata": {},
   "outputs": [
    {
     "name": "stdout",
     "output_type": "stream",
     "text": [
      "20,922,789,888,000\n",
      "2.092279e+13\n"
     ]
    }
   ],
   "source": [
    "# NOTE: code for illustration only. The code here only prettifies the large number (16!) so that we can read it more easily. You don't need to remember the syntax.\n",
    "\n",
    "print(f\"{math.factorial(16):,}\")\n",
    "print(f\"{math.factorial(16):e}\")"
   ]
  },
  {
   "cell_type": "code",
   "execution_count": 8,
   "metadata": {},
   "outputs": [
    {
     "data": {
      "text/plain": [
       "6634573.150684931"
      ]
     },
     "execution_count": 8,
     "metadata": {},
     "output_type": "execute_result"
    }
   ],
   "source": [
    "# To make some sense of this large number, let's say that the employees are very fast and can \n",
    "# make a photo of each arrangement 10 milliseconds. How many years would it take to make all the photos?\n",
    "\n",
    "10 * math.factorial(16) / 60 / 60 / 24 / 365"
   ]
  },
  {
   "cell_type": "code",
   "execution_count": 9,
   "metadata": {},
   "outputs": [
    {
     "name": "stdout",
     "output_type": "stream",
     "text": [
      "6.689503e+198\n"
     ]
    }
   ],
   "source": [
    "# Let's say that half of the members of parliament take a group photo. How many arrangements of 120 people are there?\n",
    "\n",
    "print(f\"{math.factorial(120):e}\")"
   ]
  },
  {
   "cell_type": "markdown",
   "metadata": {},
   "source": [
    "It is hard to imagine the magnitude of extremely large numbers such as $120!$ for example. To gain some perspective, take a look at the following short documentary (it goes to $10^{26}$).\n",
    "\n",
    "{{< video https://www.youtube.com/embed/44cv416bKP4?si=yzDHrjd0xuKCVtCm\n",
    "    title=\"Scales of the Universe in Powers of Ten\"\n",
    ">}}"
   ]
  },
  {
   "cell_type": "markdown",
   "metadata": {},
   "source": [
    "## k-permutations\n",
    "\n",
    "The empoyees of our small company decide that it would take too long to go through all the possible group photo arrangements. They decide to take a group photo with only 5 employees. In how many ways can they arrange themselves?\n",
    "\n",
    "Again, think about the group photo as having five slots. The first slot can be filled by any of the 16 employees, the second slot can be filled by any of the remaining 15 employees, and so on.\n",
    "\n",
    "The total number of ways to arrange the employees is \n",
    "\n",
    "$$\n",
    "\\underbrace{16}_{\\text{Slot 1}} \\times \\underbrace{15}_{\\text{Slot 2}} \\times \\underbrace{14}_{\\text{Slot 3}} \\times \\underbrace{13}_{\\text{Slot 4}} \\times \\underbrace{12}_{\\text{Slot 5}} = 16 \\times 15 \\times 14 \\times 13 \\times 12 = 524160\n",
    "$$"
   ]
  },
  {
   "cell_type": "code",
   "execution_count": 10,
   "metadata": {},
   "outputs": [
    {
     "data": {
      "text/plain": [
       "524160"
      ]
     },
     "execution_count": 10,
     "metadata": {},
     "output_type": "execute_result"
    }
   ],
   "source": [
    "16 * 15 * 14 * 13 * 12"
   ]
  },
  {
   "cell_type": "markdown",
   "metadata": {},
   "source": [
    "More generally, we can arrange $k$ elements from a set of $n$ elements in \n",
    "\n",
    "$$ \n",
    "n \\times (n-1) \\times \\ldots \\times (n-(k - 1))\n",
    "$$\n",
    "\n",
    "ways. In the previous example we had $n = 16$ and $k = 5$.\n",
    "\n",
    "$$\n",
    "(16 - \\underbrace{0}_{5 - 5}) \\times (16 - \\underbrace{1}_{5 - 4}) \\times (16 - \\underbrace{2}_{5 - 3}) \\times (16 - \\underbrace{3}_{5 - 2}) \\times (16 - \\underbrace{4}_{5 - 1}) = 16 \\times 15 \\times 14 \\times 13 \\times 12 = 524160\n",
    "$$\n",
    "\n",
    "Usually we write this in a more compact form:\n",
    "\n",
    "$$\n",
    "\\frac{16!}{(16-5)!} = \\frac{16!}{11!} = \\frac{16 \\times 15 \\times 14 \\times 13 \\times 12 \\times \\cancel{11!}}{\\cancel{11!}}\n",
    "$$\n",
    "\n",
    "Or more generally there are \n",
    "\n",
    "$$\n",
    "\\frac{n!}{(n - k)!}\n",
    "$$\n",
    "\n",
    "ways to arrange $k$ elements from a set of $n$ elements (the order of the elements matters).\n"
   ]
  },
  {
   "cell_type": "code",
   "execution_count": 11,
   "metadata": {},
   "outputs": [
    {
     "data": {
      "text/plain": [
       "524160.0"
      ]
     },
     "execution_count": 11,
     "metadata": {},
     "output_type": "execute_result"
    }
   ],
   "source": [
    "math.factorial(16) / math.factorial(11)"
   ]
  },
  {
   "cell_type": "code",
   "execution_count": 12,
   "metadata": {},
   "outputs": [
    {
     "data": {
      "text/plain": [
       "36"
      ]
     },
     "execution_count": 12,
     "metadata": {},
     "output_type": "execute_result"
    }
   ],
   "source": [
    "math.comb(9, 2)"
   ]
  },
  {
   "cell_type": "markdown",
   "metadata": {},
   "source": [
    "## Combinations\n",
    "\n",
    "There are occasions when we are not interested in the order of the elements in a subset. For example, the employees of the small company may not care about the order in which they are arranged in the group photo, only that they are in the photo. How many arrangements are there?\n",
    "\n",
    "We computed that there are $524160$ ways to arrange the employees in the group photo of 5 persons. However, some of these arrangements only differ in the order of the employees. For example, the arrangements \n",
    "\n",
    "$$\n",
    "\\begin{align*}\n",
    "(A,B,C,D,E) \\\\\n",
    "(B,A,C,D,E)\n",
    "\\end{align*}\n",
    "$$\n",
    "\n",
    "are the same for the purpose of the group photo (both have the same employees, only in a different order).\n",
    "\n",
    "For a group of 5 persons, there are $5! = 120$ ways to arrange the employees. This means that there are $524160 / 120 = 4368$ ways to arrange the employees in the group photo.\n",
    "\n",
    "More generally, the number of ways to select a _set_ (no order) of $k$ elements from a set of $n$ elements, without replacement:\n",
    "\n",
    "$$\n",
    "\\frac{n!}{k!(n-k)!} = \\binom{n}{k}\n",
    "$$\n",
    "\n",
    "You may have seen this notation before. The symbol \n",
    "\n",
    "$$\n",
    "\\binom{n}{k}\n",
    "$$ \n",
    "\n",
    "is read as \"n choose k\" and is called a binomial coefficient or combination. In the previous example we had $n = 16$ and $k = 5$.\n"
   ]
  },
  {
   "cell_type": "code",
   "execution_count": 13,
   "metadata": {},
   "outputs": [
    {
     "data": {
      "text/plain": [
       "4368"
      ]
     },
     "execution_count": 13,
     "metadata": {},
     "output_type": "execute_result"
    }
   ],
   "source": [
    "math.comb(16, 5)"
   ]
  },
  {
   "cell_type": "code",
   "execution_count": 14,
   "metadata": {},
   "outputs": [
    {
     "data": {
      "text/plain": [
       "4368.0"
      ]
     },
     "execution_count": 14,
     "metadata": {},
     "output_type": "execute_result"
    }
   ],
   "source": [
    "math.factorial(16) / (math.factorial(5) * math.factorial(16 - 5))"
   ]
  },
  {
   "cell_type": "markdown",
   "metadata": {},
   "source": [
    "## Partitions\n",
    "\n",
    "Now that the employees of the small company have agreed to ignore the order of the persons in the photos, they decide to take a group photo with 4 employees. To avoid the injustice of some employees being left out of the photo, they decide to form four groups of 4 employees. In how many ways can they form these groups?\n",
    "\n",
    "We can approach this problem by considering the formation of groups sequentially.\n",
    "\n",
    "- For the first group, there are $\\binom{16}{4}$ ways to select four employees.\n",
    "- Four persons have already been selected, so there are $\\binom{12}{4}$ ways to select four employees for the second group.\n",
    "- Eight persons have already been selected, so there are $\\binom{8}{4}$ ways to select two students for the third group.\n",
    "- And so on.\n",
    "\n",
    "The total number of ways to form the groups is:\n",
    "\n",
    "$$\n",
    "\\binom{16}{4} \\times \\binom{12}{4} \\times \\binom{8}{4}\\times \\binom{4}{4}\n",
    "$$\n",
    "\n",
    "We can generalize this to the case where we have a set of $n$ elements that must be partitioned into $k$ groups of sizes $n_1, n_2, \\ldots, n_k$. As every element must be assigned to a group, the sum of the sizes of the groups must be equal to $n$:\n",
    "\n",
    "$$\n",
    "n_1 + n_2 + \\ldots + n_k = n\n",
    "$$\n",
    "\n",
    "The general formula for the number of ways to partition a set follow the same steps as the students example, except that now the group sizes may be different.\n",
    "\n",
    "- For the first group, there are $\\binom{n}{n_1}$ ways to select $n_1$ elements.\n",
    "- $n_1$ elements have already been selected, so there are $\\binom{n - n_1}{n_2}$ ways to select $n_2$ elements for the second group.\n",
    "- And so on.\n",
    "\n",
    "The total number of ways to partition the set is:\n",
    "\n",
    "$$\n",
    "\\binom{n}{n_1} \\times \\binom{n - n_1}{n_2} \\times \\ldots \\times \\binom{n - n_1 - n_2 - \\ldots - n_{k-1}}{n_k}\n",
    "$$\n",
    "\n",
    "We can simplify this expression as it contains many terms that cancel out:\n",
    "\n",
    "$$\n",
    "\\frac{n!}{n_1! (n - n_1)!} \\times \\frac{(n - n_1)!}{n_2! (n - n_1 - n_2)!} \\times \\frac{(n - n_1 - n_2)!}{n_3! (n - n_1 - n_2 - n_3)!} \\times \\ldots \\times \\frac{(n - n_1 - n_2 - \\ldots - n_{k-1})!}{n_k! (n - n_1 - n_2 - \\ldots - n_k)!}\n",
    "$$\n",
    "\n",
    "Notice that the denominator of the first term is the numerator of the second term, the denominator of the second term is the numerator of the third term, and so on. This means that all the terms cancel out except for the numerator of the first term and the denominator of the last term. The total number of ways to partition the set is:\n",
    "\n",
    "$$\n",
    "\\frac{n!}{n_1! \\cancel{(n - n_1)!}} \\times \\frac{\\cancel{(n - n_1)!}}{n_2! \\cancel{(n - n_1 - n_2)!}} \\times \\frac{\\cancel{(n - n_1 - n_2)!}}{n_3! \\cancel{(n - n_1 - n_2 - n_3)!}} \\times \\ldots \\times \\frac{\\cancel{(n - n_1 - n_2 - \\ldots - n_{k-1})!}}{n_k! (n - n_1 - n_2 - \\ldots - n_k)!} = \\frac{n!}{n_1! n_2! \\ldots n_k!}\n",
    "$$\n",
    "\n",
    "The term in the last denominator does not cancel out but it is equal to 1, because the group sizes must sum to $n$ and $0! = 1$ (by definition). \n",
    "\n",
    "$$\n",
    "(n - (n_1 + n_2 + \\ldots + n_k))! = 0! = 1\n",
    "$$\n",
    "\n",
    "This means that the total number of ways to partition the set is:\n",
    "\n",
    "$$\n",
    "\\frac{n!}{n_1! n_2! \\ldots n_k!}\n",
    "$$\n",
    "\n",
    "This expression is called a multinomial coefficient and is denoted as \n",
    "\n",
    "$$\n",
    "\\binom{n}{n_1, n_2, \\ldots, n_k}\n",
    "$$.\n"
   ]
  },
  {
   "cell_type": "code",
   "execution_count": 15,
   "metadata": {},
   "outputs": [
    {
     "data": {
      "text/plain": [
       "197054939.86602503"
      ]
     },
     "execution_count": 15,
     "metadata": {},
     "output_type": "execute_result"
    }
   ],
   "source": [
    "((2 * 26 + 10 + 20) ** 14) / 100e9 / 60 / 60 / 24 / 365"
   ]
  },
  {
   "cell_type": "markdown",
   "metadata": {},
   "source": [
    "## Sampling with Replacement\n",
    "\n",
    "We have already seen that there are $n^k$ ways to select $k$ elements from a set of $n$ elements, with replacement and keeping track of the order of the elements. \n",
    "\n",
    "Now we want to see how many ways we can select $k$ elements from a set of $n$ elements, with replacement, and without regard to order.\n",
    "This formula may be the most difficult to figure out.\n",
    "\n",
    "Imagine that you have a lottery ticket with 2 numbers which can be any of the numbers from 1 to 4 and can be selected more than once. How many possible lottery tickets can you have with this setup if you ignore the order of the numbers on the ticket (e.g. 2 and 3 is the same as 3 and 2)?\n",
    "\n",
    "For this problem it is useful to think of all the numbers from 1 to 4 as representing a box.\n",
    "\n",
    "|1|2|3|4|\n",
    "|-|-|-|-|\n",
    "\n",
    "Now, selecting 2 numbers with replacement is the same as placing 2 marker on the numbers in the box. For example, the ticket with the numbers 1 and 3 can be represented as:\n",
    "\n",
    "|$X_1$||$X_2$||\n",
    "\n",
    "or \n",
    "\n",
    "|$X_2$||$X_1$||\n",
    "\n",
    "A selection of the first number twice can be represented as:\n",
    "\n",
    "|$X_1$ $X_2$||||\n",
    "\n",
    "Therefore, all the possible tickets will correspond to all the possible ways to arrange the two M and the three | in the box. We don't count the outer |, e.g for selecting the first and the fourth numbers:\n",
    "\n",
    "$X_1$ $|_{1}$ $|_{2}$ $|_{3}$ $X_2$\n",
    "\n",
    "We can arrange the $2 + 3$ objects in $(2 + 3)! = 5!$ ways. As the number of permutations accounts for the order of the elements, we need to divide by the number of ways to arrange the two M and the three |. There are $2!$ ways to arrange the two M and $3!$ ways to arrange the three |. The total number of ways to select two numbers from the box is:\n",
    "\n",
    "$$\n",
    "\\frac{5!}{2! 3!} = \\frac{5 \\times 4 \\times 3 \\times 2 \\times 1}{2 \\times 1 \\times 3 \\times 2 \\times 1} = 10\n",
    "$$\n",
    "\n",
    "We can generalize this to the case of selecting $k$ elements from a set of $n$ elements, with replacement, and without regard to order.\n",
    "\n",
    "$$\n",
    "\\frac{(n + k - 1)!}{k!(n - 1)!} = \\binom{n + k - 1}{k}\n",
    "$$\n",
    "\n",
    "\n"
   ]
  },
  {
   "cell_type": "markdown",
   "metadata": {},
   "source": [
    "## Summary\n",
    "\n",
    "|           | Without replacement   | With replacement       |\n",
    "| --------- | --------------------- | ---------------------- |\n",
    "| Ordered   | $\\frac{n!}{(n - k)!}$ | $n^k$                  |\n",
    "| Unordered | $\\binom{n}{k}$        | $\\binom{n + k - 1}{k}$ |\n",
    "\n"
   ]
  },
  {
   "cell_type": "code",
   "execution_count": 16,
   "metadata": {},
   "outputs": [
    {
     "data": {
      "text/plain": [
       "10"
      ]
     },
     "execution_count": 16,
     "metadata": {},
     "output_type": "execute_result"
    }
   ],
   "source": [
    "math.comb(2 + 4 - 1, 2)"
   ]
  },
  {
   "cell_type": "markdown",
   "metadata": {},
   "source": [
    "## Exercises\n",
    "\n",
    ":::{#exr-permutations}\n",
    "## Number of Songs\n",
    "\n",
    "Consider the DJ with the salsa ($m_s$), bachata ($m_b$), and reggaeton ($m_r$) songs.\n",
    "\n",
    "We have already established that there are $m_s \\times m_b \\times m_r$ ways to select a sequence of songs where the first song is a salsa song, the second song is a bachata song, and the third song is a reggaeton song.\n",
    "\n",
    "How many different sequences can the DJ play if he can play the genres in any order?\n",
    "\n",
    ":::\n",
    "\n",
    ":::{.callout-note collapse=\"true\"}\n",
    "## Solution (click to expand)\n",
    "\n",
    "The DJ can play the songs in any order, so there are $3! = 6$ ways to select the sequence of songs. With only three genres we can even list all the possibilities:\n",
    "\n",
    "1. Salsa, Bachata, Reggaeton\n",
    "2. Salsa, Reggaeton, Bachata\n",
    "3. Bachata, Salsa, Reggaeton\n",
    "4. Bachata, Reggaeton, Salsa\n",
    "5. Reggaeton, Salsa, Bachata\n",
    "6. Reggaeton, Bachata, Salsa\n",
    "\n",
    "For each of the six sequences of genres there are $m_s \\times m_b \\times m_r$ ways to select the songs. The total number of ways to select the songs is $6 \\times m_s \\times m_b \\times m_r$.\n",
    ":::"
   ]
  },
  {
   "cell_type": "markdown",
   "metadata": {},
   "source": [
    "\n",
    ":::{#exr-combinations}\n",
    "\n",
    "## Password Cracking\n",
    "\n",
    "A site asks you to generate a password with exactly 6 characters. The password must contain only ASCII lowercase letters (a-z). \n",
    "\n",
    "\n",
    "- What is the maximum time it would take to crack the password if the attacker tries all possible passwords (and is unlucky enough to find the password in the last attempt)? Assume that the attacker can try one billion passwords per second and that he or she knows the length of the password.\n",
    "- How does the answer change if the password may contain both lowercase and uppercase letters (a-z, A-Z), digits (0-9), and special characters (!@#$%^&*()_+)?\n",
    "- How does the answer change if the password must be exactly 14 characters long?\n",
    "- How does the answer change if the attacker does not know the length of the password?\n",
    "\n",
    ":::\n",
    "\n",
    ":::{.callout-note collapse=\"true\"}\n",
    "## Solution (click to expand)\n",
    "\n",
    "For a password of length 6 with only lowercase letters, there are $26^6$ possible passwords, because the order of the letters matters and because you can repeat the letters, for example \"aajump\" is a valid password.\n",
    "\n",
    "To see this, think about each of the positions of the characters of the password as a box\n",
    "\n",
    "$$\n",
    "\\underbrace{\\_}_{\\text{Box 1}} \\quad \\underbrace{\\_}_{\\text{Box 2}} \\quad \\underbrace{\\_}_{\\text{Box 3}} \\quad \\underbrace{\\_}_{\\text{Box 4}} \\quad \\underbrace{\\_}_{\\text{Box 5}} \\quad \\underbrace{\\_}_{\\text{Box 6}}\n",
    "$$\n",
    "\n",
    "You can place any of the 26 letters in each box, so there are $26 \\times 26 \\times 26 \\times 26 \\times 26 \\times 26 = 26^6$ possible passwords.\n",
    "\n",
    "If an attacker can try one billion passwords per second, it would take $26^6 / 10^9$ seconds to try all possible passwords. This is approximately 0.3 seconds (see the code below).\n",
    ":::"
   ]
  },
  {
   "cell_type": "code",
   "execution_count": 17,
   "metadata": {},
   "outputs": [
    {
     "data": {
      "text/plain": [
       "0.308915776"
      ]
     },
     "execution_count": 17,
     "metadata": {},
     "output_type": "execute_result"
    }
   ],
   "source": [
    "# The number of 6-letter passwords (26 letters) divided by 1 billion\n",
    "(26 ** 6) / 1e9"
   ]
  },
  {
   "cell_type": "code",
   "execution_count": 18,
   "metadata": {},
   "outputs": [
    {
     "data": {
      "text/plain": [
       "164.206490176"
      ]
     },
     "execution_count": 18,
     "metadata": {},
     "output_type": "execute_result"
    }
   ],
   "source": [
    "# The number of 6-letter passwords (26 lowcase letters, 26 uppercase letters, 10 digits and 12 special characters) divided by 1 billion\n",
    "\n",
    "((26 + 26 + 10 + 12) ** 6) / 1e9\n"
   ]
  },
  {
   "cell_type": "code",
   "execution_count": 19,
   "metadata": {},
   "outputs": [
    {
     "data": {
      "text/plain": [
       "1.476536122735822e+17"
      ]
     },
     "execution_count": 19,
     "metadata": {},
     "output_type": "execute_result"
    }
   ],
   "source": [
    "#The number of possible passwords of length 14 (26 lowcase letters, 26 uppercase letters, 10 digits and 12 special characters) divided by 1 billion\n",
    "\n",
    "((26 + 26 + 10 + 12) ** 14) / 1e9"
   ]
  },
  {
   "cell_type": "markdown",
   "metadata": {},
   "source": [
    "\n",
    ":::{#exr-combinations}\n",
    "## Number of Student Committees\n",
    "\n",
    "Let's say that you want to form a student council with 5 members out of a class of 35 students. \n",
    "\n",
    "- How many different student councils can you form?\n",
    "- Let's assume that the class consists of 20 women and 15 men. How many different student councils can you form if the student council must consist of 3 women and 2 men?\n",
    "- Assume that two of the women have a conflict and cannot sit on the student council together.\n",
    "\n",
    ":::"
   ]
  },
  {
   "cell_type": "markdown",
   "metadata": {},
   "source": [
    ":::{#exr-power-set}\n",
    "## Power Set\n",
    "\n",
    "The power set of a set $S$ is the set of all subsets of $S$, including the empty set and $S$ itself. For a set with $n$ elements, how much elements does the power set have?\n",
    "\n",
    ":::\n",
    "\n",
    ":::{.callout-note collapse=\"true\"}\n",
    "## Solution (click to expand)\n",
    "\n",
    "Let's show the logic for a set with 3 elements. The set $S = \\{a, b, c\\}$ has the following subsets:\n",
    "\n",
    "- No elements subset: $\\emptyset$\n",
    "- One element subsets: $\\{a\\}$, $\\{b\\}$, $\\{c\\}$\n",
    "- Two element subsets: $\\{a, b\\}$, $\\{a, c\\}$, $\\{b, c\\}$\n",
    "- Three element subset: $\\{a, b, c\\}$ (the set itself)\n",
    "\n",
    "Now think about how we can represent each of these subset. Let's create a list of zeroes and ones, where a one in the $i$-th position means that the $i$-th element of the set is in the subset.\n",
    "\n",
    "1. 000 $\\rightarrow$ $\\emptyset$\n",
    "2. 100 $\\rightarrow$ $\\{a\\}$\n",
    "3. 010 $\\rightarrow$ $\\{b\\}$\n",
    "4. 001 $\\rightarrow$ $\\{c\\}$\n",
    "5. 110 $\\rightarrow$ $\\{a, b\\}$\n",
    "6. 101 $\\rightarrow$ $\\{a, c\\}$\n",
    "7. 011 $\\rightarrow$ $\\{b, c\\}$\n",
    "8. 111 $\\rightarrow$ $\\{a, b, c\\}$\n",
    "\n",
    "With these indicators we can reduce the question about counting the number of all subsets to the question of counting the number of arrangements of 0s and 1s. with replacement (i.e. we can have more than one 1 in the arrangement). Again, think of the positions in the indicator as boxes. We have two choices for each box:\n",
    "\n",
    "- 0: the element is not in the subset\n",
    "- 1: the element is in the subset\n",
    "\n",
    "So, we have two choices for each of the three boxes, and the total number of arrangements is $2^3 = 8$.\n",
    "\n",
    "$$\n",
    "\\underbrace{2}_{\\text{Box 1}} \\quad \\underbrace{2}_{\\text{Box 2}} \\quad \\underbrace{2}_{\\text{Box 3}}\n",
    "$$\n",
    "\n",
    "For a set with $n$ elements, the power set has $2^n$ elements, because we will have $2$ choices for each of the $n$ boxes.\n",
    "\n",
    ":::"
   ]
  },
  {
   "cell_type": "markdown",
   "metadata": {},
   "source": [
    ":::{#exr-binomial-coefficients}\n",
    "## Binomial Coefficients\n",
    "\n",
    "Argue why the following sum of binomial coefficients for a fixed $n$ is equal to $2^n$:\n",
    "\n",
    "$$\n",
    "\\sum_{k = 0}^{n} \\binom{n}{k} = \\binom{n}{0} + \\binom{n}{1} + \\binom{n}{2} + \\ldots + \\binom{n}{n} = 2^n\n",
    "$$\n",
    "\n",
    ":::\n",
    ":::{.callout-note collapse=\"true\"}\n",
    "## Solution (click to expand)\n",
    "\n",
    "In the previous exercise we saw that the power set of a set with $n$ elements has $2^n$ elements. To see why the above equation is true, consider the following example with $n = 3$:\n",
    "\n",
    "$$\n",
    "S = \\{a, b, c\\}\n",
    "$$\n",
    "\n",
    "The power set of $S$ has $2^3$ elements. These subsets can have either zero, one, two, or three elements. Now there are\n",
    "\n",
    "- $\\binom{3}{0} = 1$ subsets with zero elements ($\\emptyset$)\n",
    "- $\\binom{3}{1} = 3$ subsets with one element\n",
    "- $\\binom{3}{2} = 3$ subsets with two elements\n",
    "- $\\binom{3}{3} = 1$ subset with three elements ($S$)\n",
    "\n",
    "The number of all subsets is the sum of the numbers of zero, one, two, and three element subsets, which is $1 + 3 + 3 + 1 = 8 = 2^3$.\n",
    "\n",
    "You can generalize this to a set with $n$ elements.\n",
    "\n",
    "$$\n",
    "\\sum_{k = 0}^{n} \\binom{n}{k} = \\underbrace{\\binom{n}{0}}_{\\text{\\# zero el. sets}} + \\underbrace{\\binom{n}{1}}_{\\text{\\# one el. sets}} + \\underbrace{\\binom{n}{2}}_{\\text{\\# two el. sets}} + \\ldots + \\underbrace{\\binom{n}{n}}_{\\text{\\# n el. sets}} = 2^n\n",
    "$$\n",
    "\n",
    ":::\n"
   ]
  },
  {
   "cell_type": "markdown",
   "metadata": {},
   "source": [
    "\n",
    ":::{#exr-combinations-2}\n",
    "\n",
    "An IT department has four lead developers and 12 junior developers. The company wants to form four teams of equal size out of all developers. How many ways can the teams be formed?\n",
    "\n",
    "If the teams are formed at random (i.e. each group of four developers is equally likely), what is the probability that all teams include a lead developer?\n",
    ":::\n"
   ]
  },
  {
   "cell_type": "markdown",
   "metadata": {},
   "source": [
    "\n",
    ":::{#exr-combinations-3}\n",
    "\n",
    "You roll three dice (6-sided) and sum the results. Which event is more probable: rolling a sum of 11 or rolling a sum of 12?\n",
    ":::\n"
   ]
  },
  {
   "cell_type": "code",
   "execution_count": 20,
   "metadata": {},
   "outputs": [],
   "source": [
    "# (Optional) Write a simulation to estimate the probabilities of the sum of three dice rolls being A) 11 and B) 12.\n",
    "\n"
   ]
  },
  {
   "cell_type": "markdown",
   "metadata": {},
   "source": [
    "\n",
    "\n",
    ":::{#exr-birthdays}\n",
    "## Birthdays in a Classroom\n",
    "\n",
    "In our class of (let's say) $n$ students, what is the probability (as a function of $n$) that at least two students share the same birthday? For simplicity, assume that there are 365 days in a year and that each student is equally likely to be born on any day of the year. What is the smallest value of $n$ for which the probability is greater than 1/2?\n",
    "\n",
    ":::\n",
    "\n",
    ":::{.callout-note collapse=\"true\"}\n",
    "## Hint\n",
    "\n",
    "It is easier to compute the probability that no two students share the same birthday and later subtract this probability from 1 to get the probability that at least two students share the same birthday.\n",
    "\n",
    ":::\n"
   ]
  },
  {
   "cell_type": "markdown",
   "metadata": {},
   "source": [
    "\n",
    ":::{.callout-note collapse=\"true\"}\n",
    "\n",
    "It is easier to calculate the probability that no two students share the same birthday and then subtract this probability from 1 (complement rule).\n",
    "\n",
    "First, there are $365^{20}$ possible sequence of birthdays for the 20 students.\n",
    "\n",
    "The number of sequences where no two students share a birthday is $365 \\times 364 \\times 363 \\times \\ldots \\times 346$ (k-permutations).\n",
    "\n",
    "So the probability that no two students share a birthday is: (number of sequences where no two students share a birthday) / (total number of sequences), because we have assumed \n",
    "that all sequences are equally likely. So the probability of no two students sharing a birthday is:\n",
    "\n",
    "$$\n",
    "\\frac{365 \\times 364 \\times 363 \\times \\ldots \\times 346}{365^{20}}\n",
    "$$\n",
    "\n",
    "The probability that at least two students share a birthday is $1 - \\text{probability of no two students sharing a birthday}$.\n",
    "\n",
    "The following code computes this probability using the fact that\n",
    "\n",
    "$$\n",
    "\\frac{365 \\times 364 \\times 363 \\times \\ldots \\times 346}{365^{20}} = \\frac{365!}{(365 - 20)!} \\times \\frac{1}{365^{20}}\n",
    "$$\n",
    ":::"
   ]
  },
  {
   "cell_type": "code",
   "execution_count": 21,
   "metadata": {},
   "outputs": [
    {
     "name": "stdout",
     "output_type": "stream",
     "text": [
      "The probability of no shared birthdays in a group of 23 people is approximately 0.58856161641942\n",
      "The probability of at least one shared birthday in a group of 23 people is approximately 0.41143838358058005\n"
     ]
    }
   ],
   "source": [
    "# Probability of no shared birthdays in a group of 20 people\n",
    "\n",
    "p_no_shared = (math.factorial(365) / math.factorial(365 - 20)) / (365 ** 20)\n",
    "print(\"The probability of no shared birthdays in a group of 23 people is approximately\", p_no_shared)\n",
    "\n",
    "# Probability of at least one shared birthday in a group of 20 people\n",
    "\n",
    "p_shared = 1 - p_no_shared\n",
    "print(\"The probability of at least one shared birthday in a group of 23 people is approximately\", p_shared)\n"
   ]
  },
  {
   "cell_type": "code",
   "execution_count": 22,
   "metadata": {},
   "outputs": [
    {
     "data": {
      "text/plain": [
       "array([[ 86, 215, 187, ...,  82, 144,  68],\n",
       "       [ 16,  51, 350, ..., 111, 209,  23],\n",
       "       [306, 183, 238, ..., 160, 143, 284],\n",
       "       ...,\n",
       "       [ 99, 139,  61, ...,   9, 193,   3],\n",
       "       [159, 107, 174, ..., 104,  68, 343],\n",
       "       [ 63, 311, 231, ..., 335, 264,  11]])"
      ]
     },
     "execution_count": 22,
     "metadata": {},
     "output_type": "execute_result"
    }
   ],
   "source": [
    "# Simulation\n",
    "# The following simulation creates `n_groups` groups of `group_size` people and assigns them \n",
    "# a random number between 1 and 365 (representing the day of the year).\n",
    "# We then check if there are any shared birthdays in each group.\n",
    "\n",
    "n_groups = 1000\n",
    "group_size = 20\n",
    "\n",
    "# We select one number between 1 and 365 for each person in each group. The reason we set the upper limit to 366 is that this boundary is not included in the random selection,\n",
    "# so the last number we can get is 365.\n",
    "\n",
    "groups = np.random.randint(1, 366, (n_groups, group_size))\n",
    "groups\n"
   ]
  },
  {
   "cell_type": "code",
   "execution_count": 23,
   "metadata": {},
   "outputs": [
    {
     "data": {
      "text/plain": [
       "(1000, 20)"
      ]
     },
     "execution_count": 23,
     "metadata": {},
     "output_type": "execute_result"
    }
   ],
   "source": [
    "groups.shape"
   ]
  },
  {
   "cell_type": "code",
   "execution_count": 24,
   "metadata": {},
   "outputs": [
    {
     "name": "stdout",
     "output_type": "stream",
     "text": [
      "Found shared birthdays in 408 out of 1000 groups.\n",
      "The proportion of groups with shared birthdays is 0.408\n"
     ]
    }
   ],
   "source": [
    "# Now we need to check if a group (row in the groups matrix) has any shared birthdays.\n",
    "# We can do this by checking if the number of unique elements in a row is less than the number of elements in the row.\n",
    "# If this is the case, it means that there are shared birthdays in the group.\n",
    "\n",
    "n_shared = 0\n",
    "\n",
    "for row in groups:\n",
    "    # np.unique() returns the sorted unique elements of an array\n",
    "    # len counts the number of elements in the array\n",
    "    \n",
    "    if len(np.unique(row)) != len(row):\n",
    "        # If the number of unique elements is less than the number of elements, there are shared birthdays\n",
    "        # and we increment the counter n_shared\n",
    "        n_shared = n_shared + 1\n",
    "        \n",
    "# After we have checked all groups, we print the result\n",
    "\n",
    "print(\"Found shared birthdays in\", n_shared, \"out of\", n_groups, \"groups.\")\n",
    "print(\"The proportion of groups with shared birthdays is\", n_shared / n_groups)"
   ]
  },
  {
   "cell_type": "markdown",
   "metadata": {},
   "source": [
    ":::{#exr-poker}\n",
    "## Cards\n",
    "\n",
    "\n",
    "![](https://as2.ftcdn.net/v2/jpg/03/41/80/33/1000_F_341803398_DPfP99KnvQChRNcC1kuFdEEElQUPxMm0.jpg){style=\"width: 300px\"}\n",
    "\n",
    "You play a game of poker with a standard deck of 52 cards. You are dealt a hand from a well-shuffled deck of cards. What are the probabilities of the following events:\n",
    "\n",
    "- A: A hand with four aces\n",
    "- B: A hand with four of a kind (four cards of one rank and one card of another rank)\n",
    "- C: A hand with a full house (three cards of one rank and two cards of another rank)\n",
    ":::\n"
   ]
  },
  {
   "cell_type": "markdown",
   "metadata": {},
   "source": [
    "\n",
    ":::{.callout-note collapse=\"true\"}\n",
    "## Solution (click to expand)\n",
    "\n",
    "First, note that with poker hands, we draw the cards without replacement and the order of the cards does not matter (it only matters which cards we have in the hand, not the order in which we draw them).\n",
    "\n",
    "Therefore, there are $\\binom{52}{5}$ ways to draw a hand of 5 cards from a deck of 52 cards.\n",
    "\n",
    "- Four aces:\n",
    "\n",
    "There are $\\binom{4}{4} = 1$ way to draw four aces and there are _five_ cards in the hand. The fifth card can be any of the remaining (52 - 4 = 48) cards in the deck. The probability of drawing a hand with four aces is:\n",
    "\n",
    "$$\n",
    "\\frac{\\binom{4}{4} \\times \\binom{48}{1}}{\\binom{52}{5}} = \\frac{48}{\\binom{52}{5}}\n",
    "$$\n",
    "\n",
    "- Four of a kind:\n",
    "\n",
    "Four of a kind is more common than four aces, because we can have four cards of any rank (four 2s, four 3s, four jacks, etc.). There are $\\binom{13}{1}$ ways to select the rank of the four cards. As in the case of the aces, we still need to fill the fifth card and we can do it in 48 ways, because there are 48 cards left in the deck after we have drawn the four cards of the same rank. The probability of drawing a hand with four of a kind is:\n",
    "\n",
    "$$\n",
    "\\frac{\\binom{13}{1} \\times \\binom{48}{1}}{\\binom{52}{5}} = \\frac{13 \\times 48}{\\binom{52}{5}}\n",
    "$$\n",
    "\n",
    "- Full house:\n",
    "\n",
    "For a full house we need to select two ranks, one for the three cards and one for the two cards. There are $\\binom{13}{1}$ ways to select the rank of the three cards and $\\binom{4}{3}$ ways to select the three cards of that rank. There are 12 remaining ranks and $\\binom{4}{2}$ ways to select the two cards of the second rank. The probability of drawing a full house is:\n",
    "\n",
    "$$\n",
    "\\frac{\\binom{13}{1} \\times \\binom{4}{3} \\times \\binom{12}{1} \\times \\binom{4}{2}}{\\binom{52}{5}}\n",
    "$$\n",
    "\n",
    "Detailed explanation:\n",
    "\n",
    "- Select the rank of the three cards: $\\binom{13}{1}$: The three of a kind can be of any rank: 2, 3, 4, 5, 6, 7, 8, 9, 10, J, Q, K, A.\n",
    "- Within **each** rank, select the three cards: $\\binom{4}{3}$: There are four suits and we need to select three of them.\n",
    "\n",
    "For example if we select the rank 2, we have $\\binom{4}{3} = 4$ choices for the three of a kind:\n",
    "\n",
    "- 2♠️, 2♦️, 2♣️,\n",
    "- 2♠️, 2♦️, 2♥️,\n",
    "- 2♠️, 2♣️, 2♥️,\n",
    "- 2♦️, 2♣️, 2♥️.\n",
    "\n",
    "\n",
    "\n",
    "Next we need to select the rank of the two cards and there are $\\binom{12}{1}$ ways to do this.\n",
    "As in the previous step, we must think about the number of ways to select the rank of these two cards. If we have selected the rank 2 for the three of a kind, we can have the two of a kind in the hand: 3, 4, 5, 6, 7, 8, 9, 10, J, Q, K, A. There are 12 choices for the rank of the two of a kind.\n",
    "\n",
    "Within each rank of the two cards we need to select two of the four suits: $\\binom{4}{2}$.\n",
    "\n",
    "For example if we select the rank 3, we can have the two of a kind in the hand:\n",
    "\n",
    "- 3♠️, 3♦️,\n",
    "- 3♠️, 3♣️,\n",
    "- 3♠️, 3♥️,\n",
    "- 3♦️, 3♣️,\n",
    "- 3♦️, 3♥️,\n",
    "- 3♣️, 3♥️.\n",
    "\n",
    "For the probabilities of other events that we have not covered, look up the number of hands and probabilities in the [Wikipedia article on poker probabilities](https://en.wikipedia.org/wiki/Poker_probability).\n",
    "\n",
    ":::"
   ]
  }
 ],
 "metadata": {
  "kernelspec": {
   "display_name": "stat2024",
   "language": "python",
   "name": "python3"
  },
  "language_info": {
   "codemirror_mode": {
    "name": "ipython",
    "version": 3
   },
   "file_extension": ".py",
   "mimetype": "text/x-python",
   "name": "python",
   "nbconvert_exporter": "python",
   "pygments_lexer": "ipython3",
   "version": "3.12.4"
  }
 },
 "nbformat": 4,
 "nbformat_minor": 2
}
